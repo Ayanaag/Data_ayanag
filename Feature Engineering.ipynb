{
 "cells": [
  {
   "cell_type": "markdown",
   "id": "20d02d60",
   "metadata": {
    "id": "20d02d60"
   },
   "source": [
    "# Feature Engineering. Практическая работа"
   ]
  },
  {
   "cell_type": "markdown",
   "id": "zy6qaMPhyAZd",
   "metadata": {
    "id": "zy6qaMPhyAZd"
   },
   "source": [
    "Сдаётся на проверку."
   ]
  },
  {
   "cell_type": "markdown",
   "id": "df9d0fa3",
   "metadata": {
    "id": "df9d0fa3"
   },
   "source": [
    "## Цели практической работы\n",
    "1. Потренироваться генерировать дополнительные признаки с помощью lambda-функций.\n",
    "2. Потренироваться генерировать дополнительные строковые признаки.\n",
    "3. Познакомиться с обработкой данных с помощью библиотеки Scikit-learn.\n",
    "4. Научиться нормализовывать количественные признаки.\n",
    "5. Научиться применять кодирование категориальных переменных.\n",
    "6. Научиться выделять признаки из временнЫх переменных.\n",
    "7. Подготовить датасет к этапу моделирования."
   ]
  },
  {
   "cell_type": "markdown",
   "id": "c4a1bdf2",
   "metadata": {
    "id": "c4a1bdf2"
   },
   "source": [
    "## Что входит в практическую работу\n",
    "1. Загрузить датасет и ознакомиться с ним.\n",
    "2. Сгенерировать дополнительные признаки для этапа моделирования, используя lambda-функции и функции над строками.\n",
    "3. Нормализовать количественные признаки.\n",
    "4. Применить кодирование категориальных переменных.\n",
    "5. Выделить признаки из временнЫх переменных."
   ]
  },
  {
   "cell_type": "markdown",
   "id": "cefde751",
   "metadata": {
    "id": "cefde751"
   },
   "source": [
    "## Что оценивается\n",
    "- Программа выдаёт верный ответ на заданном наборе данных.\n",
    "- Описаны причины выбранного решения, если требуется.\n",
    "- Код читабелен: переменным даны осмысленные названия, соблюдены отступы и правила расстановки пробелов.\n",
    "- При построении графиков название и оси подписаны, выведена легенда, если требуется. \n",
    "- Репозиторий проекта содержит осмысленные коммиты, содержащие конкретные реализованные фичи, ветки названы согласно назначению, лишние файлы не хранятся в репозитории.\n",
    "- В репозитории проекта соблюдена иерархия директорий согласно списку модулей и содержащихся в них тем.\n",
    "- Репозиторий проекта содержит файлы с данными, полученными в результате выполнения практической работы.\n"
   ]
  },
  {
   "cell_type": "markdown",
   "id": "d8cc2cfd",
   "metadata": {
    "id": "d8cc2cfd"
   },
   "source": [
    "## Как отправить работу на проверку\n",
    "Сдайте практическую работу этого модуля через систему контроля версий Git сервиса Skillbox GitLab. После загрузки работы на проверку напишите об этом в личном кабинете своему проверяющему куратору.\n"
   ]
  },
  {
   "cell_type": "markdown",
   "id": "3092d4ea",
   "metadata": {
    "id": "3092d4ea"
   },
   "source": [
    "## Задача\n",
    "\n",
    "Мы продолжим исследовать и готовить данные для этапа моделирования.\n",
    "\n",
    "Вам предстоит работать с небольшой выборкой из коллекции подержанных автомобилей, выставленных на продажу в Соединённых Штатах, представленной в файле `data/vehicles_dataset_upd.csv`. На этих данных вы построите первую модель классификации, определяющую категорию цены подержанного автомобиля в зависимости от характеристик транспортного средства.\n",
    "\n",
    "В этой практической работе вы продолжите генерировать дополнительные признаки и завершите подготовку датасета для этапа моделирования.\n",
    "\n",
    "## Описание датасета:\n",
    "- `id`: идентификатор записи;\n",
    "- `url`: URL-записи о продаже;\n",
    "- `region`: регион;\n",
    "- `region_url`: URL региона;\n",
    "- `price`: стоимость;\n",
    "- `year`: год выпуска;\n",
    "- `manufacturer`: производитель;\n",
    "- `model`: модель;\n",
    "- `condition`: состояние;\n",
    "- `cylinders`: количество цилиндров;\n",
    "- `fuel`: тип топлива;\n",
    "- `odometer`: количество пройденных миль;\n",
    "- `title_status`: статус;\n",
    "- `transmission`: коробка передач;\n",
    "- `VIN`: идентификационный номер;\n",
    "- `drive`: тип привода;\n",
    "- `size`: размер;\n",
    "- `type`: кузов;\n",
    "- `paint_color`: цвет;\n",
    "- `image_url`: URL изображения;\n",
    "- `description`: указанное описание;\n",
    "- `county`: страна;\n",
    "- `state`: штат;\n",
    "- `lat`: широта;\n",
    "- `long`: долгота;\n",
    "- `posting_date`: дата размещения объявления о продаже;\n",
    "- `price_category`: категория цены.\n"
   ]
  },
  {
   "cell_type": "code",
   "execution_count": 1,
   "id": "368c4acc",
   "metadata": {},
   "outputs": [],
   "source": [
    "import pandas as pd\n",
    "from sklearn.preprocessing import OneHotEncoder\n",
    "from sklearn.preprocessing import StandardScaler"
   ]
  },
  {
   "cell_type": "markdown",
   "id": "a98b05f6",
   "metadata": {
    "id": "a98b05f6"
   },
   "source": [
    "### Задача 1. Построение признаков из строк\n",
    "\n",
    "1. Загрузите датасет из `data/vehicles_dataset_upd6.csv`, выведите первые 5 записей и список колонок."
   ]
  },
  {
   "cell_type": "code",
   "execution_count": 3,
   "id": "d536ad11",
   "metadata": {
    "ExecuteTime": {
     "end_time": "2022-03-15T22:40:23.588946Z",
     "start_time": "2022-03-15T22:40:23.585461Z"
    },
    "colab": {
     "base_uri": "https://localhost:8080/",
     "height": 421
    },
    "id": "d536ad11",
    "outputId": "99c4ee14-aee7-4874-d311-668b10b5de9e"
   },
   "outputs": [
    {
     "data": {
      "text/html": [
       "<div>\n",
       "<style scoped>\n",
       "    .dataframe tbody tr th:only-of-type {\n",
       "        vertical-align: middle;\n",
       "    }\n",
       "\n",
       "    .dataframe tbody tr th {\n",
       "        vertical-align: top;\n",
       "    }\n",
       "\n",
       "    .dataframe thead th {\n",
       "        text-align: right;\n",
       "    }\n",
       "</style>\n",
       "<table border=\"1\" class=\"dataframe\">\n",
       "  <thead>\n",
       "    <tr style=\"text-align: right;\">\n",
       "      <th></th>\n",
       "      <th>id</th>\n",
       "      <th>url</th>\n",
       "      <th>region</th>\n",
       "      <th>region_url</th>\n",
       "      <th>price</th>\n",
       "      <th>year</th>\n",
       "      <th>manufacturer</th>\n",
       "      <th>model</th>\n",
       "      <th>fuel</th>\n",
       "      <th>odometer</th>\n",
       "      <th>...</th>\n",
       "      <th>is_jeep</th>\n",
       "      <th>is_honda</th>\n",
       "      <th>is_nissan</th>\n",
       "      <th>x0_diesel</th>\n",
       "      <th>x0_electric</th>\n",
       "      <th>x0_gas</th>\n",
       "      <th>x0_hybrid</th>\n",
       "      <th>x0_other</th>\n",
       "      <th>std_scaled_odometer</th>\n",
       "      <th>std_scaled_price</th>\n",
       "    </tr>\n",
       "  </thead>\n",
       "  <tbody>\n",
       "    <tr>\n",
       "      <th>0</th>\n",
       "      <td>7308295377</td>\n",
       "      <td>https://chattanooga.craigslist.org/ctd/d/chatt...</td>\n",
       "      <td>chattanooga</td>\n",
       "      <td>https://chattanooga.craigslist.org</td>\n",
       "      <td>54990</td>\n",
       "      <td>2020</td>\n",
       "      <td>ram</td>\n",
       "      <td>2500 crew cab big horn</td>\n",
       "      <td>diesel</td>\n",
       "      <td>27442</td>\n",
       "      <td>...</td>\n",
       "      <td>0</td>\n",
       "      <td>0</td>\n",
       "      <td>0</td>\n",
       "      <td>1.0</td>\n",
       "      <td>0.0</td>\n",
       "      <td>0.0</td>\n",
       "      <td>0.0</td>\n",
       "      <td>0.0</td>\n",
       "      <td>-1.079390</td>\n",
       "      <td>2.958509</td>\n",
       "    </tr>\n",
       "    <tr>\n",
       "      <th>1</th>\n",
       "      <td>7316380095</td>\n",
       "      <td>https://newjersey.craigslist.org/ctd/d/carlsta...</td>\n",
       "      <td>north jersey</td>\n",
       "      <td>https://newjersey.craigslist.org</td>\n",
       "      <td>16942</td>\n",
       "      <td>2016</td>\n",
       "      <td>ford</td>\n",
       "      <td>explorer 4wd 4dr xlt</td>\n",
       "      <td>other</td>\n",
       "      <td>60023</td>\n",
       "      <td>...</td>\n",
       "      <td>0</td>\n",
       "      <td>0</td>\n",
       "      <td>0</td>\n",
       "      <td>0.0</td>\n",
       "      <td>0.0</td>\n",
       "      <td>0.0</td>\n",
       "      <td>0.0</td>\n",
       "      <td>1.0</td>\n",
       "      <td>-0.560115</td>\n",
       "      <td>-0.085826</td>\n",
       "    </tr>\n",
       "    <tr>\n",
       "      <th>2</th>\n",
       "      <td>7313733749</td>\n",
       "      <td>https://reno.craigslist.org/ctd/d/atlanta-2017...</td>\n",
       "      <td>reno / tahoe</td>\n",
       "      <td>https://reno.craigslist.org</td>\n",
       "      <td>35590</td>\n",
       "      <td>2017</td>\n",
       "      <td>volkswagen</td>\n",
       "      <td>golf r hatchback</td>\n",
       "      <td>gas</td>\n",
       "      <td>14048</td>\n",
       "      <td>...</td>\n",
       "      <td>0</td>\n",
       "      <td>0</td>\n",
       "      <td>0</td>\n",
       "      <td>0.0</td>\n",
       "      <td>0.0</td>\n",
       "      <td>1.0</td>\n",
       "      <td>0.0</td>\n",
       "      <td>0.0</td>\n",
       "      <td>-1.292863</td>\n",
       "      <td>1.406256</td>\n",
       "    </tr>\n",
       "    <tr>\n",
       "      <th>3</th>\n",
       "      <td>7308210929</td>\n",
       "      <td>https://fayetteville.craigslist.org/ctd/d/rale...</td>\n",
       "      <td>fayetteville</td>\n",
       "      <td>https://fayetteville.craigslist.org</td>\n",
       "      <td>14500</td>\n",
       "      <td>2013</td>\n",
       "      <td>toyota</td>\n",
       "      <td>rav4</td>\n",
       "      <td>gas</td>\n",
       "      <td>117291</td>\n",
       "      <td>...</td>\n",
       "      <td>0</td>\n",
       "      <td>0</td>\n",
       "      <td>0</td>\n",
       "      <td>0.0</td>\n",
       "      <td>0.0</td>\n",
       "      <td>1.0</td>\n",
       "      <td>0.0</td>\n",
       "      <td>0.0</td>\n",
       "      <td>0.352621</td>\n",
       "      <td>-0.281218</td>\n",
       "    </tr>\n",
       "    <tr>\n",
       "      <th>4</th>\n",
       "      <td>7303797340</td>\n",
       "      <td>https://knoxville.craigslist.org/ctd/d/knoxvil...</td>\n",
       "      <td>knoxville</td>\n",
       "      <td>https://knoxville.craigslist.org</td>\n",
       "      <td>14590</td>\n",
       "      <td>2012</td>\n",
       "      <td>bmw</td>\n",
       "      <td>1 series 128i coupe 2d</td>\n",
       "      <td>other</td>\n",
       "      <td>80465</td>\n",
       "      <td>...</td>\n",
       "      <td>0</td>\n",
       "      <td>0</td>\n",
       "      <td>0</td>\n",
       "      <td>0.0</td>\n",
       "      <td>0.0</td>\n",
       "      <td>0.0</td>\n",
       "      <td>0.0</td>\n",
       "      <td>1.0</td>\n",
       "      <td>-0.234311</td>\n",
       "      <td>-0.274017</td>\n",
       "    </tr>\n",
       "  </tbody>\n",
       "</table>\n",
       "<p>5 rows × 45 columns</p>\n",
       "</div>"
      ],
      "text/plain": [
       "           id                                                url  \\\n",
       "0  7308295377  https://chattanooga.craigslist.org/ctd/d/chatt...   \n",
       "1  7316380095  https://newjersey.craigslist.org/ctd/d/carlsta...   \n",
       "2  7313733749  https://reno.craigslist.org/ctd/d/atlanta-2017...   \n",
       "3  7308210929  https://fayetteville.craigslist.org/ctd/d/rale...   \n",
       "4  7303797340  https://knoxville.craigslist.org/ctd/d/knoxvil...   \n",
       "\n",
       "         region                           region_url  price  year  \\\n",
       "0   chattanooga   https://chattanooga.craigslist.org  54990  2020   \n",
       "1  north jersey     https://newjersey.craigslist.org  16942  2016   \n",
       "2  reno / tahoe          https://reno.craigslist.org  35590  2017   \n",
       "3  fayetteville  https://fayetteville.craigslist.org  14500  2013   \n",
       "4     knoxville     https://knoxville.craigslist.org  14590  2012   \n",
       "\n",
       "  manufacturer                   model    fuel  odometer  ... is_jeep  \\\n",
       "0          ram  2500 crew cab big horn  diesel     27442  ...       0   \n",
       "1         ford    explorer 4wd 4dr xlt   other     60023  ...       0   \n",
       "2   volkswagen        golf r hatchback     gas     14048  ...       0   \n",
       "3       toyota                    rav4     gas    117291  ...       0   \n",
       "4          bmw  1 series 128i coupe 2d   other     80465  ...       0   \n",
       "\n",
       "  is_honda is_nissan x0_diesel x0_electric  x0_gas  x0_hybrid x0_other  \\\n",
       "0        0         0       1.0         0.0     0.0        0.0      0.0   \n",
       "1        0         0       0.0         0.0     0.0        0.0      1.0   \n",
       "2        0         0       0.0         0.0     1.0        0.0      0.0   \n",
       "3        0         0       0.0         0.0     1.0        0.0      0.0   \n",
       "4        0         0       0.0         0.0     0.0        0.0      1.0   \n",
       "\n",
       "  std_scaled_odometer std_scaled_price  \n",
       "0           -1.079390         2.958509  \n",
       "1           -0.560115        -0.085826  \n",
       "2           -1.292863         1.406256  \n",
       "3            0.352621        -0.281218  \n",
       "4           -0.234311        -0.274017  \n",
       "\n",
       "[5 rows x 45 columns]"
      ]
     },
     "execution_count": 3,
     "metadata": {},
     "output_type": "execute_result"
    }
   ],
   "source": [
    "# Ваш код здесь\n",
    "df = pd.read_csv('data/vehicles_dataset_upd6.csv')\n",
    "df.head()"
   ]
  },
  {
   "cell_type": "markdown",
   "id": "c46630e3",
   "metadata": {
    "id": "c46630e3"
   },
   "source": [
    "2. Выведите список значений и количество уникальных значений для модели автомобиля."
   ]
  },
  {
   "cell_type": "code",
   "execution_count": 3,
   "id": "12c123d6",
   "metadata": {
    "ExecuteTime": {
     "end_time": "2022-03-15T22:40:29.330321Z",
     "start_time": "2022-03-15T22:40:29.326988Z"
    },
    "colab": {
     "base_uri": "https://localhost:8080/"
    },
    "id": "12c123d6",
    "outputId": "2ba81141-ed0e-4e50-d7cd-8de7858a0202"
   },
   "outputs": [
    {
     "data": {
      "text/plain": [
       "0          2500 crew cab big horn\n",
       "1            explorer 4wd 4dr xlt\n",
       "2                golf r hatchback\n",
       "3                            rav4\n",
       "4          1 series 128i coupe 2d\n",
       "                  ...            \n",
       "9614                         rav4\n",
       "9615                     wrangler\n",
       "9616    a3 2.0t premium plus pzev\n",
       "9617                      cayenne\n",
       "9618       1500 crew cab big horn\n",
       "Name: model, Length: 9619, dtype: object"
      ]
     },
     "execution_count": 3,
     "metadata": {},
     "output_type": "execute_result"
    }
   ],
   "source": [
    "# Ваш код здес\n",
    "df.model\n"
   ]
  },
  {
   "cell_type": "code",
   "execution_count": 5,
   "id": "gp1vKfn5oMsP",
   "metadata": {
    "colab": {
     "base_uri": "https://localhost:8080/"
    },
    "id": "gp1vKfn5oMsP",
    "outputId": "e68de971-9c17-4d9a-aec4-58c6711409ba"
   },
   "outputs": [
    {
     "data": {
      "text/plain": [
       "3341"
      ]
     },
     "execution_count": 5,
     "metadata": {},
     "output_type": "execute_result"
    }
   ],
   "source": [
    "df.model.nunique()"
   ]
  },
  {
   "cell_type": "markdown",
   "id": "bcf1904b",
   "metadata": {
    "id": "bcf1904b"
   },
   "source": [
    "3. Количество уникальных значений велико. Попробуем их сократить, оставив только первое слово в наименовании модели. С помощью lambda-функции и преобразования над строками создайте новый признак `short_model`, содержащий только первое слово из наименования модели, выведите его и количество получившихся уникальных значений."
   ]
  },
  {
   "cell_type": "code",
   "execution_count": 4,
   "id": "6de1d535",
   "metadata": {
    "ExecuteTime": {
     "end_time": "2022-03-15T22:40:30.465505Z",
     "start_time": "2022-03-15T22:40:30.460032Z"
    },
    "colab": {
     "base_uri": "https://localhost:8080/"
    },
    "id": "6de1d535",
    "outputId": "89dc07c7-0f8b-4d12-8488-c7762c99a2e6"
   },
   "outputs": [
    {
     "name": "stdout",
     "output_type": "stream",
     "text": [
      "0           2500\n",
      "1       explorer\n",
      "2           golf\n",
      "3           rav4\n",
      "4              1\n",
      "          ...   \n",
      "9614        rav4\n",
      "9615    wrangler\n",
      "9616          a3\n",
      "9617     cayenne\n",
      "9618        1500\n",
      "Name: short_model, Length: 9619, dtype: object\n",
      "Количество уникальных значений: 943\n"
     ]
    }
   ],
   "source": [
    "# Ваш код здесь\n",
    "df['short_model'] = df.model.apply(lambda x: x.split(' ')[0])\n",
    "print(df.short_model)\n",
    "print('Количество уникальных значений:', df.short_model.nunique())"
   ]
  },
  {
   "cell_type": "markdown",
   "id": "f8266e27",
   "metadata": {
    "ExecuteTime": {
     "end_time": "2022-01-28T23:12:51.463454Z",
     "start_time": "2022-01-28T23:12:51.458075Z"
    },
    "id": "f8266e27"
   },
   "source": [
    "### Задача 2. Преобразование категориальных переменных\n",
    "\n",
    "1. Для категориальных переменных `short_model`, `transmission`, `region`, `manufacturer`, `state`, `title_status`, `age_category` распечатайте наименование категории и количество уникальных значений в ней.\n"
   ]
  },
  {
   "cell_type": "code",
   "execution_count": 6,
   "id": "a839bd7c",
   "metadata": {
    "ExecuteTime": {
     "end_time": "2022-03-15T22:40:31.559424Z",
     "start_time": "2022-03-15T22:40:31.552170Z"
    },
    "colab": {
     "base_uri": "https://localhost:8080/"
    },
    "id": "a839bd7c",
    "outputId": "b6e0c860-80ed-4c5a-a2f8-53c49cc0e510"
   },
   "outputs": [
    {
     "name": "stdout",
     "output_type": "stream",
     "text": [
      "short_model: 943\n",
      "transmission: 3\n",
      "region: 393\n",
      "manufacturer: 40\n",
      "state: 51\n",
      "title_status: 6\n",
      "age_category: 3\n"
     ]
    }
   ],
   "source": [
    "# Ваш код здесь\n",
    "#df.short_model.nunique()\n",
    "print('short_model:', df.short_model.nunique())\n",
    "print('transmission:', df.transmission.nunique())\n",
    "print('region:', df.region.nunique())\n",
    "print('manufacturer:', df.manufacturer.nunique())\n",
    "print('state:', df.state.nunique())\n",
    "print('title_status:', df.title_status.nunique())\n",
    "print('age_category:', df.age_category.nunique())\n"
   ]
  },
  {
   "cell_type": "markdown",
   "id": "6d22ddcd",
   "metadata": {
    "id": "6d22ddcd"
   },
   "source": [
    "2. Создайте датафрейм `data`, содержащий только выбранные категориальные переменные."
   ]
  },
  {
   "cell_type": "code",
   "execution_count": 7,
   "id": "c6fb4d53",
   "metadata": {
    "ExecuteTime": {
     "end_time": "2022-03-15T22:40:32.233510Z",
     "start_time": "2022-03-15T22:40:32.226777Z"
    },
    "colab": {
     "base_uri": "https://localhost:8080/",
     "height": 424
    },
    "id": "c6fb4d53",
    "outputId": "014fc4b2-fa48-41bb-f642-cee6bf9e2e82"
   },
   "outputs": [
    {
     "data": {
      "text/html": [
       "<div>\n",
       "<style scoped>\n",
       "    .dataframe tbody tr th:only-of-type {\n",
       "        vertical-align: middle;\n",
       "    }\n",
       "\n",
       "    .dataframe tbody tr th {\n",
       "        vertical-align: top;\n",
       "    }\n",
       "\n",
       "    .dataframe thead th {\n",
       "        text-align: right;\n",
       "    }\n",
       "</style>\n",
       "<table border=\"1\" class=\"dataframe\">\n",
       "  <thead>\n",
       "    <tr style=\"text-align: right;\">\n",
       "      <th></th>\n",
       "      <th>short_model</th>\n",
       "      <th>transmission</th>\n",
       "      <th>region</th>\n",
       "      <th>manufacturer</th>\n",
       "      <th>state</th>\n",
       "      <th>title_status</th>\n",
       "      <th>age_category</th>\n",
       "    </tr>\n",
       "  </thead>\n",
       "  <tbody>\n",
       "    <tr>\n",
       "      <th>0</th>\n",
       "      <td>2500</td>\n",
       "      <td>other</td>\n",
       "      <td>chattanooga</td>\n",
       "      <td>ram</td>\n",
       "      <td>tn</td>\n",
       "      <td>clean</td>\n",
       "      <td>new</td>\n",
       "    </tr>\n",
       "    <tr>\n",
       "      <th>1</th>\n",
       "      <td>explorer</td>\n",
       "      <td>automatic</td>\n",
       "      <td>north jersey</td>\n",
       "      <td>ford</td>\n",
       "      <td>nj</td>\n",
       "      <td>clean</td>\n",
       "      <td>new</td>\n",
       "    </tr>\n",
       "    <tr>\n",
       "      <th>2</th>\n",
       "      <td>golf</td>\n",
       "      <td>other</td>\n",
       "      <td>reno / tahoe</td>\n",
       "      <td>volkswagen</td>\n",
       "      <td>ca</td>\n",
       "      <td>clean</td>\n",
       "      <td>new</td>\n",
       "    </tr>\n",
       "    <tr>\n",
       "      <th>3</th>\n",
       "      <td>rav4</td>\n",
       "      <td>automatic</td>\n",
       "      <td>fayetteville</td>\n",
       "      <td>toyota</td>\n",
       "      <td>nc</td>\n",
       "      <td>clean</td>\n",
       "      <td>average</td>\n",
       "    </tr>\n",
       "    <tr>\n",
       "      <th>4</th>\n",
       "      <td>1</td>\n",
       "      <td>other</td>\n",
       "      <td>knoxville</td>\n",
       "      <td>bmw</td>\n",
       "      <td>tn</td>\n",
       "      <td>clean</td>\n",
       "      <td>average</td>\n",
       "    </tr>\n",
       "    <tr>\n",
       "      <th>...</th>\n",
       "      <td>...</td>\n",
       "      <td>...</td>\n",
       "      <td>...</td>\n",
       "      <td>...</td>\n",
       "      <td>...</td>\n",
       "      <td>...</td>\n",
       "      <td>...</td>\n",
       "    </tr>\n",
       "    <tr>\n",
       "      <th>9614</th>\n",
       "      <td>rav4</td>\n",
       "      <td>automatic</td>\n",
       "      <td>chautauqua</td>\n",
       "      <td>toyota</td>\n",
       "      <td>ny</td>\n",
       "      <td>clean</td>\n",
       "      <td>old</td>\n",
       "    </tr>\n",
       "    <tr>\n",
       "      <th>9615</th>\n",
       "      <td>wrangler</td>\n",
       "      <td>other</td>\n",
       "      <td>binghamton</td>\n",
       "      <td>jeep</td>\n",
       "      <td>ny</td>\n",
       "      <td>clean</td>\n",
       "      <td>average</td>\n",
       "    </tr>\n",
       "    <tr>\n",
       "      <th>9616</th>\n",
       "      <td>a3</td>\n",
       "      <td>automatic</td>\n",
       "      <td>salem</td>\n",
       "      <td>audi</td>\n",
       "      <td>or</td>\n",
       "      <td>clean</td>\n",
       "      <td>average</td>\n",
       "    </tr>\n",
       "    <tr>\n",
       "      <th>9617</th>\n",
       "      <td>cayenne</td>\n",
       "      <td>automatic</td>\n",
       "      <td>madison</td>\n",
       "      <td>porsche</td>\n",
       "      <td>wi</td>\n",
       "      <td>clean</td>\n",
       "      <td>new</td>\n",
       "    </tr>\n",
       "    <tr>\n",
       "      <th>9618</th>\n",
       "      <td>1500</td>\n",
       "      <td>other</td>\n",
       "      <td>norfolk / hampton roads</td>\n",
       "      <td>ram</td>\n",
       "      <td>va</td>\n",
       "      <td>clean</td>\n",
       "      <td>new</td>\n",
       "    </tr>\n",
       "  </tbody>\n",
       "</table>\n",
       "<p>9619 rows × 7 columns</p>\n",
       "</div>"
      ],
      "text/plain": [
       "     short_model transmission                   region manufacturer state  \\\n",
       "0           2500        other              chattanooga          ram    tn   \n",
       "1       explorer    automatic             north jersey         ford    nj   \n",
       "2           golf        other             reno / tahoe   volkswagen    ca   \n",
       "3           rav4    automatic             fayetteville       toyota    nc   \n",
       "4              1        other                knoxville          bmw    tn   \n",
       "...          ...          ...                      ...          ...   ...   \n",
       "9614        rav4    automatic               chautauqua       toyota    ny   \n",
       "9615    wrangler        other               binghamton         jeep    ny   \n",
       "9616          a3    automatic                    salem         audi    or   \n",
       "9617     cayenne    automatic                  madison      porsche    wi   \n",
       "9618        1500        other  norfolk / hampton roads          ram    va   \n",
       "\n",
       "     title_status age_category  \n",
       "0           clean          new  \n",
       "1           clean          new  \n",
       "2           clean          new  \n",
       "3           clean      average  \n",
       "4           clean      average  \n",
       "...           ...          ...  \n",
       "9614        clean          old  \n",
       "9615        clean      average  \n",
       "9616        clean      average  \n",
       "9617        clean          new  \n",
       "9618        clean          new  \n",
       "\n",
       "[9619 rows x 7 columns]"
      ]
     },
     "execution_count": 7,
     "metadata": {},
     "output_type": "execute_result"
    }
   ],
   "source": [
    "# Ваш код здесь\n",
    "data = df[['short_model', 'transmission', 'region', 'manufacturer', 'state', 'title_status', 'age_category']]\n",
    "data"
   ]
  },
  {
   "cell_type": "markdown",
   "id": "cac34814",
   "metadata": {
    "id": "cac34814"
   },
   "source": [
    "3. Создайте объект класса OneHotEncoder, который будет отвечать за преобразование. Уточните, что на выходе должна быть неразреженная матрица."
   ]
  },
  {
   "cell_type": "code",
   "execution_count": 8,
   "id": "5c64ca58",
   "metadata": {
    "ExecuteTime": {
     "end_time": "2022-03-15T22:40:33.034009Z",
     "start_time": "2022-03-15T22:40:33.028764Z"
    },
    "colab": {
     "base_uri": "https://localhost:8080/"
    },
    "id": "5c64ca58",
    "outputId": "d21eca37-f1cf-4643-ca97-b228dcd66556"
   },
   "outputs": [
    {
     "data": {
      "text/plain": [
       "OneHotEncoder(sparse=False)"
      ]
     },
     "execution_count": 8,
     "metadata": {},
     "output_type": "execute_result"
    }
   ],
   "source": [
    "# Ваш код здесь\n",
    "ohe = OneHotEncoder (sparse=False)\n",
    "ohe"
   ]
  },
  {
   "cell_type": "markdown",
   "id": "26a44ecc",
   "metadata": {
    "id": "26a44ecc"
   },
   "source": [
    "4. Идентифицируйте параметры преобразования на датафрейме с категориальными переменными."
   ]
  },
  {
   "cell_type": "code",
   "execution_count": 9,
   "id": "295f2ffc",
   "metadata": {
    "ExecuteTime": {
     "end_time": "2022-03-15T22:40:33.874311Z",
     "start_time": "2022-03-15T22:40:33.871463Z"
    },
    "colab": {
     "base_uri": "https://localhost:8080/"
    },
    "id": "295f2ffc",
    "outputId": "0170440a-07a0-4c70-ff6e-092fb6ca9532"
   },
   "outputs": [
    {
     "data": {
      "text/plain": [
       "OneHotEncoder(sparse=False)"
      ]
     },
     "execution_count": 9,
     "metadata": {},
     "output_type": "execute_result"
    }
   ],
   "source": [
    "# Ваш код здесь\n",
    "ohe.fit(data)"
   ]
  },
  {
   "cell_type": "markdown",
   "id": "e5504b8d",
   "metadata": {
    "id": "e5504b8d"
   },
   "source": [
    "5. Примените преобразование для датафрейма с категориальными переменными и сохраните в новую переменную, распечатайте получившуюся матрицу и её размерность."
   ]
  },
  {
   "cell_type": "code",
   "execution_count": 10,
   "id": "10d8356c",
   "metadata": {
    "ExecuteTime": {
     "end_time": "2022-03-15T22:40:34.519702Z",
     "start_time": "2022-03-15T22:40:34.516796Z"
    },
    "colab": {
     "base_uri": "https://localhost:8080/"
    },
    "id": "10d8356c",
    "outputId": "c650ad3d-79e1-465f-fc57-990660edce78"
   },
   "outputs": [
    {
     "name": "stdout",
     "output_type": "stream",
     "text": [
      "[[0. 0. 0. ... 0. 1. 0.]\n",
      " [0. 0. 0. ... 0. 1. 0.]\n",
      " [0. 0. 0. ... 0. 1. 0.]\n",
      " ...\n",
      " [0. 0. 0. ... 1. 0. 0.]\n",
      " [0. 0. 0. ... 0. 1. 0.]\n",
      " [0. 0. 0. ... 0. 1. 0.]]\n",
      "(9619, 1439)\n"
     ]
    }
   ],
   "source": [
    "# Ваш код здесь\n",
    "ohe_data = ohe.transform(data)\n",
    "print(ohe_data)\n",
    "print(ohe_data.shape)"
   ]
  },
  {
   "cell_type": "markdown",
   "id": "490cf3fa",
   "metadata": {
    "id": "490cf3fa"
   },
   "source": [
    "6. Выведите новые наименования признаков с помощью метода `get_feature_names_out`."
   ]
  },
  {
   "cell_type": "code",
   "execution_count": 48,
   "id": "a5ee48ea",
   "metadata": {
    "ExecuteTime": {
     "end_time": "2022-03-15T22:40:35.296004Z",
     "start_time": "2022-03-15T22:40:35.291879Z"
    },
    "colab": {
     "base_uri": "https://localhost:8080/"
    },
    "id": "a5ee48ea",
    "outputId": "d0cc8cfe-e1e4-4370-aafd-60cd7e976271"
   },
   "outputs": [
    {
     "data": {
      "text/plain": [
       "array(['x0_-benz', 'x0_1', 'x0_124', ..., 'x6_average', 'x6_new',\n",
       "       'x6_old'], dtype=object)"
      ]
     },
     "execution_count": 48,
     "metadata": {},
     "output_type": "execute_result"
    }
   ],
   "source": [
    "# Ваш код здесь\n",
    "ohe.get_feature_names()"
   ]
  },
  {
   "cell_type": "markdown",
   "id": "115aed73",
   "metadata": {
    "id": "115aed73"
   },
   "source": [
    "7. Добавьте в исходный датафрейм получившиеся новые признаки, выведите первые 5 записей датафрейма и список колонок."
   ]
  },
  {
   "cell_type": "code",
   "execution_count": 12,
   "id": "0062ac07",
   "metadata": {
    "ExecuteTime": {
     "end_time": "2022-03-15T22:40:35.978083Z",
     "start_time": "2022-03-15T22:40:35.970249Z"
    },
    "colab": {
     "base_uri": "https://localhost:8080/",
     "height": 490
    },
    "id": "0062ac07",
    "outputId": "c59245de-ac4c-4430-a199-fb492b016318"
   },
   "outputs": [
    {
     "name": "stderr",
     "output_type": "stream",
     "text": [
      "C:\\Users\\Ayana\\anaconda3\\lib\\site-packages\\pandas\\core\\frame.py:3678: SettingWithCopyWarning: \n",
      "A value is trying to be set on a copy of a slice from a DataFrame.\n",
      "Try using .loc[row_indexer,col_indexer] = value instead\n",
      "\n",
      "See the caveats in the documentation: https://pandas.pydata.org/pandas-docs/stable/user_guide/indexing.html#returning-a-view-versus-a-copy\n",
      "  self[col] = igetitem(value, i)\n",
      "C:\\Users\\Ayana\\anaconda3\\lib\\site-packages\\pandas\\core\\frame.py:3678: PerformanceWarning: DataFrame is highly fragmented.  This is usually the result of calling `frame.insert` many times, which has poor performance.  Consider joining all columns at once using pd.concat(axis=1) instead.  To get a de-fragmented frame, use `newframe = frame.copy()`\n",
      "  self[col] = igetitem(value, i)\n"
     ]
    },
    {
     "data": {
      "text/html": [
       "<div>\n",
       "<style scoped>\n",
       "    .dataframe tbody tr th:only-of-type {\n",
       "        vertical-align: middle;\n",
       "    }\n",
       "\n",
       "    .dataframe tbody tr th {\n",
       "        vertical-align: top;\n",
       "    }\n",
       "\n",
       "    .dataframe thead th {\n",
       "        text-align: right;\n",
       "    }\n",
       "</style>\n",
       "<table border=\"1\" class=\"dataframe\">\n",
       "  <thead>\n",
       "    <tr style=\"text-align: right;\">\n",
       "      <th></th>\n",
       "      <th>short_model</th>\n",
       "      <th>transmission</th>\n",
       "      <th>region</th>\n",
       "      <th>manufacturer</th>\n",
       "      <th>state</th>\n",
       "      <th>title_status</th>\n",
       "      <th>age_category</th>\n",
       "      <th>x0_-benz</th>\n",
       "      <th>x0_1</th>\n",
       "      <th>x0_124</th>\n",
       "      <th>...</th>\n",
       "      <th>x4_wy</th>\n",
       "      <th>x5_clean</th>\n",
       "      <th>x5_lien</th>\n",
       "      <th>x5_missing</th>\n",
       "      <th>x5_parts only</th>\n",
       "      <th>x5_rebuilt</th>\n",
       "      <th>x5_salvage</th>\n",
       "      <th>x6_average</th>\n",
       "      <th>x6_new</th>\n",
       "      <th>x6_old</th>\n",
       "    </tr>\n",
       "  </thead>\n",
       "  <tbody>\n",
       "    <tr>\n",
       "      <th>0</th>\n",
       "      <td>2500</td>\n",
       "      <td>other</td>\n",
       "      <td>chattanooga</td>\n",
       "      <td>ram</td>\n",
       "      <td>tn</td>\n",
       "      <td>clean</td>\n",
       "      <td>new</td>\n",
       "      <td>0.0</td>\n",
       "      <td>0.0</td>\n",
       "      <td>0.0</td>\n",
       "      <td>...</td>\n",
       "      <td>0.0</td>\n",
       "      <td>1.0</td>\n",
       "      <td>0.0</td>\n",
       "      <td>0.0</td>\n",
       "      <td>0.0</td>\n",
       "      <td>0.0</td>\n",
       "      <td>0.0</td>\n",
       "      <td>0.0</td>\n",
       "      <td>1.0</td>\n",
       "      <td>0.0</td>\n",
       "    </tr>\n",
       "    <tr>\n",
       "      <th>1</th>\n",
       "      <td>explorer</td>\n",
       "      <td>automatic</td>\n",
       "      <td>north jersey</td>\n",
       "      <td>ford</td>\n",
       "      <td>nj</td>\n",
       "      <td>clean</td>\n",
       "      <td>new</td>\n",
       "      <td>0.0</td>\n",
       "      <td>0.0</td>\n",
       "      <td>0.0</td>\n",
       "      <td>...</td>\n",
       "      <td>0.0</td>\n",
       "      <td>1.0</td>\n",
       "      <td>0.0</td>\n",
       "      <td>0.0</td>\n",
       "      <td>0.0</td>\n",
       "      <td>0.0</td>\n",
       "      <td>0.0</td>\n",
       "      <td>0.0</td>\n",
       "      <td>1.0</td>\n",
       "      <td>0.0</td>\n",
       "    </tr>\n",
       "    <tr>\n",
       "      <th>2</th>\n",
       "      <td>golf</td>\n",
       "      <td>other</td>\n",
       "      <td>reno / tahoe</td>\n",
       "      <td>volkswagen</td>\n",
       "      <td>ca</td>\n",
       "      <td>clean</td>\n",
       "      <td>new</td>\n",
       "      <td>0.0</td>\n",
       "      <td>0.0</td>\n",
       "      <td>0.0</td>\n",
       "      <td>...</td>\n",
       "      <td>0.0</td>\n",
       "      <td>1.0</td>\n",
       "      <td>0.0</td>\n",
       "      <td>0.0</td>\n",
       "      <td>0.0</td>\n",
       "      <td>0.0</td>\n",
       "      <td>0.0</td>\n",
       "      <td>0.0</td>\n",
       "      <td>1.0</td>\n",
       "      <td>0.0</td>\n",
       "    </tr>\n",
       "    <tr>\n",
       "      <th>3</th>\n",
       "      <td>rav4</td>\n",
       "      <td>automatic</td>\n",
       "      <td>fayetteville</td>\n",
       "      <td>toyota</td>\n",
       "      <td>nc</td>\n",
       "      <td>clean</td>\n",
       "      <td>average</td>\n",
       "      <td>0.0</td>\n",
       "      <td>0.0</td>\n",
       "      <td>0.0</td>\n",
       "      <td>...</td>\n",
       "      <td>0.0</td>\n",
       "      <td>1.0</td>\n",
       "      <td>0.0</td>\n",
       "      <td>0.0</td>\n",
       "      <td>0.0</td>\n",
       "      <td>0.0</td>\n",
       "      <td>0.0</td>\n",
       "      <td>1.0</td>\n",
       "      <td>0.0</td>\n",
       "      <td>0.0</td>\n",
       "    </tr>\n",
       "    <tr>\n",
       "      <th>4</th>\n",
       "      <td>1</td>\n",
       "      <td>other</td>\n",
       "      <td>knoxville</td>\n",
       "      <td>bmw</td>\n",
       "      <td>tn</td>\n",
       "      <td>clean</td>\n",
       "      <td>average</td>\n",
       "      <td>0.0</td>\n",
       "      <td>1.0</td>\n",
       "      <td>0.0</td>\n",
       "      <td>...</td>\n",
       "      <td>0.0</td>\n",
       "      <td>1.0</td>\n",
       "      <td>0.0</td>\n",
       "      <td>0.0</td>\n",
       "      <td>0.0</td>\n",
       "      <td>0.0</td>\n",
       "      <td>0.0</td>\n",
       "      <td>1.0</td>\n",
       "      <td>0.0</td>\n",
       "      <td>0.0</td>\n",
       "    </tr>\n",
       "  </tbody>\n",
       "</table>\n",
       "<p>5 rows × 1446 columns</p>\n",
       "</div>"
      ],
      "text/plain": [
       "  short_model transmission        region manufacturer state title_status  \\\n",
       "0        2500        other   chattanooga          ram    tn        clean   \n",
       "1    explorer    automatic  north jersey         ford    nj        clean   \n",
       "2        golf        other  reno / tahoe   volkswagen    ca        clean   \n",
       "3        rav4    automatic  fayetteville       toyota    nc        clean   \n",
       "4           1        other     knoxville          bmw    tn        clean   \n",
       "\n",
       "  age_category  x0_-benz  x0_1  x0_124  ...  x4_wy  x5_clean  x5_lien  \\\n",
       "0          new       0.0   0.0     0.0  ...    0.0       1.0      0.0   \n",
       "1          new       0.0   0.0     0.0  ...    0.0       1.0      0.0   \n",
       "2          new       0.0   0.0     0.0  ...    0.0       1.0      0.0   \n",
       "3      average       0.0   0.0     0.0  ...    0.0       1.0      0.0   \n",
       "4      average       0.0   1.0     0.0  ...    0.0       1.0      0.0   \n",
       "\n",
       "   x5_missing  x5_parts only  x5_rebuilt  x5_salvage  x6_average  x6_new  \\\n",
       "0         0.0            0.0         0.0         0.0         0.0     1.0   \n",
       "1         0.0            0.0         0.0         0.0         0.0     1.0   \n",
       "2         0.0            0.0         0.0         0.0         0.0     1.0   \n",
       "3         0.0            0.0         0.0         0.0         1.0     0.0   \n",
       "4         0.0            0.0         0.0         0.0         1.0     0.0   \n",
       "\n",
       "   x6_old  \n",
       "0     0.0  \n",
       "1     0.0  \n",
       "2     0.0  \n",
       "3     0.0  \n",
       "4     0.0  \n",
       "\n",
       "[5 rows x 1446 columns]"
      ]
     },
     "execution_count": 12,
     "metadata": {},
     "output_type": "execute_result"
    }
   ],
   "source": [
    "# Ваш код здесь\n",
    "data[ohe.get_feature_names()] = ohe_data\n",
    "data.head()"
   ]
  },
  {
   "cell_type": "code",
   "execution_count": 13,
   "id": "-0LwuDVI4Occ",
   "metadata": {
    "colab": {
     "base_uri": "https://localhost:8080/"
    },
    "id": "-0LwuDVI4Occ",
    "outputId": "a9ee0eab-c0c5-435b-86ec-7d5630697491"
   },
   "outputs": [
    {
     "data": {
      "text/plain": [
       "Index(['short_model', 'transmission', 'region', 'manufacturer', 'state',\n",
       "       'title_status', 'age_category', 'x0_-benz', 'x0_1', 'x0_124',\n",
       "       ...\n",
       "       'x4_wy', 'x5_clean', 'x5_lien', 'x5_missing', 'x5_parts only',\n",
       "       'x5_rebuilt', 'x5_salvage', 'x6_average', 'x6_new', 'x6_old'],\n",
       "      dtype='object', length=1446)"
      ]
     },
     "execution_count": 13,
     "metadata": {},
     "output_type": "execute_result"
    }
   ],
   "source": [
    "data.columns"
   ]
  },
  {
   "cell_type": "markdown",
   "id": "4eddeddb",
   "metadata": {
    "id": "4eddeddb"
   },
   "source": [
    "8. Посмотрите на результат обратного преобразования получившейся матрицы в исходные признаки, используйте `inverse_transform`."
   ]
  },
  {
   "cell_type": "code",
   "execution_count": 14,
   "id": "0f2613e6",
   "metadata": {
    "ExecuteTime": {
     "end_time": "2022-03-15T22:40:45.647004Z",
     "start_time": "2022-03-15T22:40:45.641686Z"
    },
    "colab": {
     "base_uri": "https://localhost:8080/"
    },
    "id": "0f2613e6",
    "outputId": "90c40bfa-e23f-4f75-f6bd-abb3a2a43755"
   },
   "outputs": [
    {
     "data": {
      "text/plain": [
       "array([['2500', 'other', 'chattanooga', ..., 'tn', 'clean', 'new'],\n",
       "       ['explorer', 'automatic', 'north jersey', ..., 'nj', 'clean',\n",
       "        'new'],\n",
       "       ['golf', 'other', 'reno / tahoe', ..., 'ca', 'clean', 'new'],\n",
       "       ...,\n",
       "       ['a3', 'automatic', 'salem', ..., 'or', 'clean', 'average'],\n",
       "       ['cayenne', 'automatic', 'madison', ..., 'wi', 'clean', 'new'],\n",
       "       ['1500', 'other', 'norfolk / hampton roads', ..., 'va', 'clean',\n",
       "        'new']], dtype=object)"
      ]
     },
     "execution_count": 14,
     "metadata": {},
     "output_type": "execute_result"
    }
   ],
   "source": [
    "# Ваш код здесь\n",
    "ohe.inverse_transform(ohe_data)"
   ]
  },
  {
   "cell_type": "markdown",
   "id": "29bad2c6",
   "metadata": {
    "id": "29bad2c6"
   },
   "source": [
    "### Задача 3. Стандартизация данных\n",
    "\n",
    "1. Создайте переменную под количественные переменные `lat`, `long`, `year`, `odometer/price`, `desc_len`, `model_in_desc`, `model_len`, `model_word_count` и создайте датафрейм `data`, содержащий только выбранные количественные переменные.\n"
   ]
  },
  {
   "cell_type": "code",
   "execution_count": 15,
   "id": "1pVnuYSbTKQ-",
   "metadata": {
    "colab": {
     "base_uri": "https://localhost:8080/",
     "height": 424
    },
    "id": "1pVnuYSbTKQ-",
    "outputId": "742a0c6f-f979-4ea9-b907-ccf9aff8cc59"
   },
   "outputs": [
    {
     "data": {
      "text/html": [
       "<div>\n",
       "<style scoped>\n",
       "    .dataframe tbody tr th:only-of-type {\n",
       "        vertical-align: middle;\n",
       "    }\n",
       "\n",
       "    .dataframe tbody tr th {\n",
       "        vertical-align: top;\n",
       "    }\n",
       "\n",
       "    .dataframe thead th {\n",
       "        text-align: right;\n",
       "    }\n",
       "</style>\n",
       "<table border=\"1\" class=\"dataframe\">\n",
       "  <thead>\n",
       "    <tr style=\"text-align: right;\">\n",
       "      <th></th>\n",
       "      <th>lat</th>\n",
       "      <th>long</th>\n",
       "      <th>year</th>\n",
       "      <th>odometer/price</th>\n",
       "      <th>desc_len</th>\n",
       "      <th>model_in_desc</th>\n",
       "      <th>model_len</th>\n",
       "    </tr>\n",
       "  </thead>\n",
       "  <tbody>\n",
       "    <tr>\n",
       "      <th>0</th>\n",
       "      <td>35.060000</td>\n",
       "      <td>-85.250000</td>\n",
       "      <td>2020</td>\n",
       "      <td>0.499036</td>\n",
       "      <td>4482</td>\n",
       "      <td>0</td>\n",
       "      <td>22</td>\n",
       "    </tr>\n",
       "    <tr>\n",
       "      <th>1</th>\n",
       "      <td>40.821805</td>\n",
       "      <td>-74.061962</td>\n",
       "      <td>2016</td>\n",
       "      <td>3.542852</td>\n",
       "      <td>968</td>\n",
       "      <td>0</td>\n",
       "      <td>20</td>\n",
       "    </tr>\n",
       "    <tr>\n",
       "      <th>2</th>\n",
       "      <td>33.779214</td>\n",
       "      <td>-84.411811</td>\n",
       "      <td>2017</td>\n",
       "      <td>0.394718</td>\n",
       "      <td>4286</td>\n",
       "      <td>0</td>\n",
       "      <td>16</td>\n",
       "    </tr>\n",
       "    <tr>\n",
       "      <th>3</th>\n",
       "      <td>35.715954</td>\n",
       "      <td>-78.655304</td>\n",
       "      <td>2013</td>\n",
       "      <td>8.089034</td>\n",
       "      <td>3241</td>\n",
       "      <td>0</td>\n",
       "      <td>4</td>\n",
       "    </tr>\n",
       "    <tr>\n",
       "      <th>4</th>\n",
       "      <td>35.970000</td>\n",
       "      <td>-83.940000</td>\n",
       "      <td>2012</td>\n",
       "      <td>5.515079</td>\n",
       "      <td>4851</td>\n",
       "      <td>0</td>\n",
       "      <td>22</td>\n",
       "    </tr>\n",
       "    <tr>\n",
       "      <th>...</th>\n",
       "      <td>...</td>\n",
       "      <td>...</td>\n",
       "      <td>...</td>\n",
       "      <td>...</td>\n",
       "      <td>...</td>\n",
       "      <td>...</td>\n",
       "      <td>...</td>\n",
       "    </tr>\n",
       "    <tr>\n",
       "      <th>9614</th>\n",
       "      <td>42.123900</td>\n",
       "      <td>-79.189500</td>\n",
       "      <td>2002</td>\n",
       "      <td>33.370412</td>\n",
       "      <td>1710</td>\n",
       "      <td>0</td>\n",
       "      <td>4</td>\n",
       "    </tr>\n",
       "    <tr>\n",
       "      <th>9615</th>\n",
       "      <td>43.216990</td>\n",
       "      <td>-77.755610</td>\n",
       "      <td>2008</td>\n",
       "      <td>7.835323</td>\n",
       "      <td>948</td>\n",
       "      <td>0</td>\n",
       "      <td>8</td>\n",
       "    </tr>\n",
       "    <tr>\n",
       "      <th>9616</th>\n",
       "      <td>44.925908</td>\n",
       "      <td>-122.982753</td>\n",
       "      <td>2011</td>\n",
       "      <td>16.696387</td>\n",
       "      <td>909</td>\n",
       "      <td>0</td>\n",
       "      <td>25</td>\n",
       "    </tr>\n",
       "    <tr>\n",
       "      <th>9617</th>\n",
       "      <td>43.029559</td>\n",
       "      <td>-89.397796</td>\n",
       "      <td>2015</td>\n",
       "      <td>1.941787</td>\n",
       "      <td>3644</td>\n",
       "      <td>0</td>\n",
       "      <td>7</td>\n",
       "    </tr>\n",
       "    <tr>\n",
       "      <th>9618</th>\n",
       "      <td>36.670000</td>\n",
       "      <td>-76.300000</td>\n",
       "      <td>2017</td>\n",
       "      <td>1.122882</td>\n",
       "      <td>4483</td>\n",
       "      <td>0</td>\n",
       "      <td>22</td>\n",
       "    </tr>\n",
       "  </tbody>\n",
       "</table>\n",
       "<p>9619 rows × 7 columns</p>\n",
       "</div>"
      ],
      "text/plain": [
       "            lat        long  year  odometer/price  desc_len  model_in_desc  \\\n",
       "0     35.060000  -85.250000  2020        0.499036      4482              0   \n",
       "1     40.821805  -74.061962  2016        3.542852       968              0   \n",
       "2     33.779214  -84.411811  2017        0.394718      4286              0   \n",
       "3     35.715954  -78.655304  2013        8.089034      3241              0   \n",
       "4     35.970000  -83.940000  2012        5.515079      4851              0   \n",
       "...         ...         ...   ...             ...       ...            ...   \n",
       "9614  42.123900  -79.189500  2002       33.370412      1710              0   \n",
       "9615  43.216990  -77.755610  2008        7.835323       948              0   \n",
       "9616  44.925908 -122.982753  2011       16.696387       909              0   \n",
       "9617  43.029559  -89.397796  2015        1.941787      3644              0   \n",
       "9618  36.670000  -76.300000  2017        1.122882      4483              0   \n",
       "\n",
       "      model_len  \n",
       "0            22  \n",
       "1            20  \n",
       "2            16  \n",
       "3             4  \n",
       "4            22  \n",
       "...         ...  \n",
       "9614          4  \n",
       "9615          8  \n",
       "9616         25  \n",
       "9617          7  \n",
       "9618         22  \n",
       "\n",
       "[9619 rows x 7 columns]"
      ]
     },
     "execution_count": 15,
     "metadata": {},
     "output_type": "execute_result"
    }
   ],
   "source": [
    "data_1 = pd.DataFrame({'lat': df.lat, 'long': df.long, 'year': df.year, 'odometer/price': df.odometer/df.price, 'desc_len': df.desc_len, 'model_in_desc': df.model_in_desc, 'model_len': df.model_len})\n",
    "data_1"
   ]
  },
  {
   "cell_type": "markdown",
   "id": "3e3704a7",
   "metadata": {
    "id": "3e3704a7"
   },
   "source": [
    "2. Создайте объект `std_scaler` класса StandardScaler с параметрами по умолчанию, который будет отвечать за стандартизацию."
   ]
  },
  {
   "cell_type": "code",
   "execution_count": 16,
   "id": "7b8ab72c",
   "metadata": {
    "ExecuteTime": {
     "end_time": "2022-03-15T22:40:46.294618Z",
     "start_time": "2022-03-15T22:40:46.288462Z"
    },
    "colab": {
     "base_uri": "https://localhost:8080/"
    },
    "id": "7b8ab72c",
    "outputId": "677a4706-fc5f-4d59-e692-c21cee57b91d"
   },
   "outputs": [
    {
     "data": {
      "text/plain": [
       "StandardScaler()"
      ]
     },
     "execution_count": 16,
     "metadata": {},
     "output_type": "execute_result"
    }
   ],
   "source": [
    "# Ваш код здесь\n",
    "std_scaler = StandardScaler()\n",
    "std_scaler"
   ]
  },
  {
   "cell_type": "markdown",
   "id": "1630cfa2",
   "metadata": {
    "id": "1630cfa2"
   },
   "source": [
    "3. Идентифицируйте параметры преобразования на датафрейме с количественными переменными."
   ]
  },
  {
   "cell_type": "code",
   "execution_count": 17,
   "id": "0cc2c08b",
   "metadata": {
    "ExecuteTime": {
     "end_time": "2022-03-15T22:40:46.338630Z",
     "start_time": "2022-03-15T22:40:46.333793Z"
    },
    "colab": {
     "base_uri": "https://localhost:8080/"
    },
    "id": "0cc2c08b",
    "outputId": "24be1510-09e5-425d-f587-04d6f0761906"
   },
   "outputs": [
    {
     "data": {
      "text/plain": [
       "StandardScaler()"
      ]
     },
     "execution_count": 17,
     "metadata": {},
     "output_type": "execute_result"
    }
   ],
   "source": [
    "# Ваш код здесь\n",
    "std_scaler.fit(data_1[['lat', 'long', 'year', 'odometer/price', 'desc_len', 'model_in_desc', 'model_len']])"
   ]
  },
  {
   "cell_type": "markdown",
   "id": "9ef7ff55",
   "metadata": {
    "id": "9ef7ff55"
   },
   "source": [
    "4. Примените преобразование для датафрейма с количественными переменными и сохраните в новую переменную, распечатайте получившуюся матрицу и её размерность."
   ]
  },
  {
   "cell_type": "code",
   "execution_count": 18,
   "id": "cd141505",
   "metadata": {
    "ExecuteTime": {
     "end_time": "2022-03-15T22:40:46.389565Z",
     "start_time": "2022-03-15T22:40:46.380037Z"
    },
    "colab": {
     "base_uri": "https://localhost:8080/"
    },
    "id": "cd141505",
    "outputId": "10faf705-ad10-46fc-dbcd-0c268b2fdcfc"
   },
   "outputs": [
    {
     "data": {
      "text/plain": [
       "array([[-0.61917248,  0.48424452,  1.32239376, ...,  0.63207479,\n",
       "        -0.15578836,  1.16303238],\n",
       "       [ 0.38801429,  1.11079989,  0.69597272, ..., -0.64678136,\n",
       "        -0.15578836,  0.93208734],\n",
       "       [-0.84305905,  0.531185  ,  0.85257798, ...,  0.56074417,\n",
       "        -0.15578836,  0.47019727],\n",
       "       ...,\n",
       "       [ 1.10542805, -1.62887477, -0.08705357, ..., -0.66825333,\n",
       "        -0.15578836,  1.50944993],\n",
       "       [ 0.7739386 ,  0.25195859,  0.53936746, ...,  0.32709999,\n",
       "        -0.15578836, -0.56905538],\n",
       "       [-0.33773799,  0.98546471,  0.85257798, ...,  0.63243873,\n",
       "        -0.15578836,  1.16303238]])"
      ]
     },
     "execution_count": 18,
     "metadata": {},
     "output_type": "execute_result"
    }
   ],
   "source": [
    "# Ваш код здесь\n",
    "std_scaled = std_scaler.transform(df[['lat', 'long', 'year', 'odometer/price', 'desc_len', 'model_in_desc', 'model_len']])\n",
    "std_scaled"
   ]
  },
  {
   "cell_type": "code",
   "execution_count": 19,
   "id": "030eb523",
   "metadata": {},
   "outputs": [
    {
     "data": {
      "text/plain": [
       "(9619, 7)"
      ]
     },
     "execution_count": 19,
     "metadata": {},
     "output_type": "execute_result"
    }
   ],
   "source": [
    "std_scaled.shape"
   ]
  },
  {
   "cell_type": "markdown",
   "id": "68d44f88",
   "metadata": {
    "ExecuteTime": {
     "end_time": "2022-03-13T11:12:57.421096Z",
     "start_time": "2022-03-13T11:12:57.414865Z"
    },
    "id": "68d44f88"
   },
   "source": [
    "5. Создайте наименования новых признаков по шаблону: `lat_std` для `lat` и так далее."
   ]
  },
  {
   "cell_type": "code",
   "execution_count": 20,
   "id": "013e66f2",
   "metadata": {
    "ExecuteTime": {
     "end_time": "2022-03-15T22:40:46.483299Z",
     "start_time": "2022-03-15T22:40:46.475050Z"
    },
    "id": "013e66f2"
   },
   "outputs": [],
   "source": [
    "# Ваш код здесь\n",
    "data_1[['lat_std', 'long_std', 'year_std', 'odometer/price_std', 'desc_len_std', 'model_in_desc_std', 'model_len_std']] = std_scaled"
   ]
  },
  {
   "cell_type": "markdown",
   "id": "490925bb",
   "metadata": {
    "ExecuteTime": {
     "end_time": "2022-03-13T11:13:15.167251Z",
     "start_time": "2022-03-13T11:13:15.161293Z"
    },
    "id": "490925bb"
   },
   "source": [
    "6. Добавьте в исходный датафрейм получившиеся новые признаки, выведите первые 5 записей датафрейма и список колонок."
   ]
  },
  {
   "cell_type": "code",
   "execution_count": 21,
   "id": "6eb7c0dd",
   "metadata": {
    "ExecuteTime": {
     "end_time": "2022-03-15T22:40:46.528674Z",
     "start_time": "2022-03-15T22:40:46.520688Z"
    },
    "colab": {
     "base_uri": "https://localhost:8080/",
     "height": 250
    },
    "id": "6eb7c0dd",
    "outputId": "0bf6ec8d-61ae-43d1-c4b7-9889e822cb7c"
   },
   "outputs": [
    {
     "data": {
      "text/html": [
       "<div>\n",
       "<style scoped>\n",
       "    .dataframe tbody tr th:only-of-type {\n",
       "        vertical-align: middle;\n",
       "    }\n",
       "\n",
       "    .dataframe tbody tr th {\n",
       "        vertical-align: top;\n",
       "    }\n",
       "\n",
       "    .dataframe thead th {\n",
       "        text-align: right;\n",
       "    }\n",
       "</style>\n",
       "<table border=\"1\" class=\"dataframe\">\n",
       "  <thead>\n",
       "    <tr style=\"text-align: right;\">\n",
       "      <th></th>\n",
       "      <th>id</th>\n",
       "      <th>url</th>\n",
       "      <th>region</th>\n",
       "      <th>region_url</th>\n",
       "      <th>price</th>\n",
       "      <th>year</th>\n",
       "      <th>manufacturer</th>\n",
       "      <th>model</th>\n",
       "      <th>fuel</th>\n",
       "      <th>odometer</th>\n",
       "      <th>...</th>\n",
       "      <th>std_scaled_odometer</th>\n",
       "      <th>std_scaled_price</th>\n",
       "      <th>short_model</th>\n",
       "      <th>lat_std</th>\n",
       "      <th>long_std</th>\n",
       "      <th>year_std</th>\n",
       "      <th>odometer/price_std</th>\n",
       "      <th>desc_len_std</th>\n",
       "      <th>model_in_desc_std</th>\n",
       "      <th>model_len_std</th>\n",
       "    </tr>\n",
       "  </thead>\n",
       "  <tbody>\n",
       "    <tr>\n",
       "      <th>0</th>\n",
       "      <td>7308295377</td>\n",
       "      <td>https://chattanooga.craigslist.org/ctd/d/chatt...</td>\n",
       "      <td>chattanooga</td>\n",
       "      <td>https://chattanooga.craigslist.org</td>\n",
       "      <td>54990</td>\n",
       "      <td>2020</td>\n",
       "      <td>ram</td>\n",
       "      <td>2500 crew cab big horn</td>\n",
       "      <td>diesel</td>\n",
       "      <td>27442</td>\n",
       "      <td>...</td>\n",
       "      <td>-1.079390</td>\n",
       "      <td>2.958509</td>\n",
       "      <td>2500</td>\n",
       "      <td>-0.619172</td>\n",
       "      <td>0.484245</td>\n",
       "      <td>1.322394</td>\n",
       "      <td>-0.510784</td>\n",
       "      <td>0.632075</td>\n",
       "      <td>-0.155788</td>\n",
       "      <td>1.163032</td>\n",
       "    </tr>\n",
       "    <tr>\n",
       "      <th>1</th>\n",
       "      <td>7316380095</td>\n",
       "      <td>https://newjersey.craigslist.org/ctd/d/carlsta...</td>\n",
       "      <td>north jersey</td>\n",
       "      <td>https://newjersey.craigslist.org</td>\n",
       "      <td>16942</td>\n",
       "      <td>2016</td>\n",
       "      <td>ford</td>\n",
       "      <td>explorer 4wd 4dr xlt</td>\n",
       "      <td>other</td>\n",
       "      <td>60023</td>\n",
       "      <td>...</td>\n",
       "      <td>-0.560115</td>\n",
       "      <td>-0.085826</td>\n",
       "      <td>explorer</td>\n",
       "      <td>0.388014</td>\n",
       "      <td>1.110800</td>\n",
       "      <td>0.695973</td>\n",
       "      <td>-0.402947</td>\n",
       "      <td>-0.646781</td>\n",
       "      <td>-0.155788</td>\n",
       "      <td>0.932087</td>\n",
       "    </tr>\n",
       "    <tr>\n",
       "      <th>2</th>\n",
       "      <td>7313733749</td>\n",
       "      <td>https://reno.craigslist.org/ctd/d/atlanta-2017...</td>\n",
       "      <td>reno / tahoe</td>\n",
       "      <td>https://reno.craigslist.org</td>\n",
       "      <td>35590</td>\n",
       "      <td>2017</td>\n",
       "      <td>volkswagen</td>\n",
       "      <td>golf r hatchback</td>\n",
       "      <td>gas</td>\n",
       "      <td>14048</td>\n",
       "      <td>...</td>\n",
       "      <td>-1.292863</td>\n",
       "      <td>1.406256</td>\n",
       "      <td>golf</td>\n",
       "      <td>-0.843059</td>\n",
       "      <td>0.531185</td>\n",
       "      <td>0.852578</td>\n",
       "      <td>-0.514480</td>\n",
       "      <td>0.560744</td>\n",
       "      <td>-0.155788</td>\n",
       "      <td>0.470197</td>\n",
       "    </tr>\n",
       "    <tr>\n",
       "      <th>3</th>\n",
       "      <td>7308210929</td>\n",
       "      <td>https://fayetteville.craigslist.org/ctd/d/rale...</td>\n",
       "      <td>fayetteville</td>\n",
       "      <td>https://fayetteville.craigslist.org</td>\n",
       "      <td>14500</td>\n",
       "      <td>2013</td>\n",
       "      <td>toyota</td>\n",
       "      <td>rav4</td>\n",
       "      <td>gas</td>\n",
       "      <td>117291</td>\n",
       "      <td>...</td>\n",
       "      <td>0.352621</td>\n",
       "      <td>-0.281218</td>\n",
       "      <td>rav4</td>\n",
       "      <td>-0.504509</td>\n",
       "      <td>0.853562</td>\n",
       "      <td>0.226157</td>\n",
       "      <td>-0.241883</td>\n",
       "      <td>0.180435</td>\n",
       "      <td>-0.155788</td>\n",
       "      <td>-0.915473</td>\n",
       "    </tr>\n",
       "    <tr>\n",
       "      <th>4</th>\n",
       "      <td>7303797340</td>\n",
       "      <td>https://knoxville.craigslist.org/ctd/d/knoxvil...</td>\n",
       "      <td>knoxville</td>\n",
       "      <td>https://knoxville.craigslist.org</td>\n",
       "      <td>14590</td>\n",
       "      <td>2012</td>\n",
       "      <td>bmw</td>\n",
       "      <td>1 series 128i coupe 2d</td>\n",
       "      <td>other</td>\n",
       "      <td>80465</td>\n",
       "      <td>...</td>\n",
       "      <td>-0.234311</td>\n",
       "      <td>-0.274017</td>\n",
       "      <td>1</td>\n",
       "      <td>-0.460101</td>\n",
       "      <td>0.557607</td>\n",
       "      <td>0.069552</td>\n",
       "      <td>-0.333074</td>\n",
       "      <td>0.766366</td>\n",
       "      <td>-0.155788</td>\n",
       "      <td>1.163032</td>\n",
       "    </tr>\n",
       "  </tbody>\n",
       "</table>\n",
       "<p>5 rows × 53 columns</p>\n",
       "</div>"
      ],
      "text/plain": [
       "           id                                                url  \\\n",
       "0  7308295377  https://chattanooga.craigslist.org/ctd/d/chatt...   \n",
       "1  7316380095  https://newjersey.craigslist.org/ctd/d/carlsta...   \n",
       "2  7313733749  https://reno.craigslist.org/ctd/d/atlanta-2017...   \n",
       "3  7308210929  https://fayetteville.craigslist.org/ctd/d/rale...   \n",
       "4  7303797340  https://knoxville.craigslist.org/ctd/d/knoxvil...   \n",
       "\n",
       "         region                           region_url  price  year  \\\n",
       "0   chattanooga   https://chattanooga.craigslist.org  54990  2020   \n",
       "1  north jersey     https://newjersey.craigslist.org  16942  2016   \n",
       "2  reno / tahoe          https://reno.craigslist.org  35590  2017   \n",
       "3  fayetteville  https://fayetteville.craigslist.org  14500  2013   \n",
       "4     knoxville     https://knoxville.craigslist.org  14590  2012   \n",
       "\n",
       "  manufacturer                   model    fuel  odometer  ...  \\\n",
       "0          ram  2500 crew cab big horn  diesel     27442  ...   \n",
       "1         ford    explorer 4wd 4dr xlt   other     60023  ...   \n",
       "2   volkswagen        golf r hatchback     gas     14048  ...   \n",
       "3       toyota                    rav4     gas    117291  ...   \n",
       "4          bmw  1 series 128i coupe 2d   other     80465  ...   \n",
       "\n",
       "  std_scaled_odometer std_scaled_price short_model   lat_std  long_std  \\\n",
       "0           -1.079390         2.958509        2500 -0.619172  0.484245   \n",
       "1           -0.560115        -0.085826    explorer  0.388014  1.110800   \n",
       "2           -1.292863         1.406256        golf -0.843059  0.531185   \n",
       "3            0.352621        -0.281218        rav4 -0.504509  0.853562   \n",
       "4           -0.234311        -0.274017           1 -0.460101  0.557607   \n",
       "\n",
       "   year_std  odometer/price_std desc_len_std model_in_desc_std model_len_std  \n",
       "0  1.322394           -0.510784     0.632075         -0.155788      1.163032  \n",
       "1  0.695973           -0.402947    -0.646781         -0.155788      0.932087  \n",
       "2  0.852578           -0.514480     0.560744         -0.155788      0.470197  \n",
       "3  0.226157           -0.241883     0.180435         -0.155788     -0.915473  \n",
       "4  0.069552           -0.333074     0.766366         -0.155788      1.163032  \n",
       "\n",
       "[5 rows x 53 columns]"
      ]
     },
     "execution_count": 21,
     "metadata": {},
     "output_type": "execute_result"
    }
   ],
   "source": [
    "# Ваш код здесь\n",
    "df[['lat_std', 'long_std', 'year_std', 'odometer/price_std', 'desc_len_std', 'model_in_desc_std', 'model_len_std']] = std_scaled\n",
    "df.head()"
   ]
  },
  {
   "cell_type": "markdown",
   "id": "0a3146dd",
   "metadata": {
    "ExecuteTime": {
     "end_time": "2022-03-13T11:16:52.292837Z",
     "start_time": "2022-03-13T11:16:52.286868Z"
    },
    "id": "0a3146dd"
   },
   "source": [
    "### Задача 4. MinMax-нормализация данных\n",
    "\n",
    "1. Импортируйте MinMaxScaler из `sklearn.preprocessing`."
   ]
  },
  {
   "cell_type": "code",
   "execution_count": 22,
   "id": "3db8afba",
   "metadata": {
    "ExecuteTime": {
     "end_time": "2022-03-15T22:40:46.701361Z",
     "start_time": "2022-03-15T22:40:46.695192Z"
    },
    "id": "3db8afba"
   },
   "outputs": [],
   "source": [
    "# Ваш код здесь\n",
    "from sklearn.preprocessing import MinMaxScaler"
   ]
  },
  {
   "cell_type": "markdown",
   "id": "d471557f",
   "metadata": {
    "id": "d471557f"
   },
   "source": [
    "2. Создайте датафрейм, содержащий переменные `lat` и `long`."
   ]
  },
  {
   "cell_type": "code",
   "execution_count": 23,
   "id": "13859501",
   "metadata": {
    "ExecuteTime": {
     "end_time": "2022-03-15T22:40:46.732137Z",
     "start_time": "2022-03-15T22:40:46.725228Z"
    },
    "id": "13859501"
   },
   "outputs": [],
   "source": [
    "# Ваш код здесь\n",
    "data_2 = pd.DataFrame({'lat': df.lat, 'long': df.long})"
   ]
  },
  {
   "cell_type": "markdown",
   "id": "0599fc35",
   "metadata": {
    "id": "0599fc35"
   },
   "source": [
    "3. Повторите действия пунктов 2–6 из задачи 3 для добавления в исходный датафрейм признаков `lat_mm` и `long_mm`. Выведите получившийся датафрейм."
   ]
  },
  {
   "cell_type": "code",
   "execution_count": 24,
   "id": "26f2c546",
   "metadata": {
    "ExecuteTime": {
     "end_time": "2022-03-15T22:40:47.159782Z",
     "start_time": "2022-03-15T22:40:47.148971Z"
    },
    "colab": {
     "base_uri": "https://localhost:8080/"
    },
    "id": "26f2c546",
    "outputId": "8052b831-8253-49c4-cdfb-dbb37640caf9"
   },
   "outputs": [
    {
     "data": {
      "text/plain": [
       "StandardScaler()"
      ]
     },
     "execution_count": 24,
     "metadata": {},
     "output_type": "execute_result"
    }
   ],
   "source": [
    "# Ваш код здесь\n",
    "std_scaler_1 = StandardScaler()\n",
    "std_scaler_1"
   ]
  },
  {
   "cell_type": "code",
   "execution_count": 25,
   "id": "Rlvhs35EFvgR",
   "metadata": {
    "colab": {
     "base_uri": "https://localhost:8080/"
    },
    "id": "Rlvhs35EFvgR",
    "outputId": "02d48fa3-cf73-4d9a-adfd-2d919a8086c5"
   },
   "outputs": [
    {
     "data": {
      "text/plain": [
       "StandardScaler()"
      ]
     },
     "execution_count": 25,
     "metadata": {},
     "output_type": "execute_result"
    }
   ],
   "source": [
    "std_scaler_1.fit(data_1[['lat', 'long']])"
   ]
  },
  {
   "cell_type": "code",
   "execution_count": 26,
   "id": "qNnQ5DluF5Hg",
   "metadata": {
    "colab": {
     "base_uri": "https://localhost:8080/"
    },
    "id": "qNnQ5DluF5Hg",
    "outputId": "fe139263-bb31-491a-b92b-24e0589495c5"
   },
   "outputs": [
    {
     "data": {
      "text/plain": [
       "array([[-0.61917248,  0.48424452],\n",
       "       [ 0.38801429,  1.11079989],\n",
       "       [-0.84305905,  0.531185  ],\n",
       "       ...,\n",
       "       [ 1.10542805, -1.62887477],\n",
       "       [ 0.7739386 ,  0.25195859],\n",
       "       [-0.33773799,  0.98546471]])"
      ]
     },
     "execution_count": 26,
     "metadata": {},
     "output_type": "execute_result"
    }
   ],
   "source": [
    "std_scaled_1 = std_scaler_1.transform(df[['lat', 'long']])\n",
    "std_scaled_1"
   ]
  },
  {
   "cell_type": "code",
   "execution_count": 27,
   "id": "g93vQ7q7GC13",
   "metadata": {
    "id": "g93vQ7q7GC13"
   },
   "outputs": [],
   "source": [
    "df[['lat_mm', 'long_mm']] = std_scaled_1"
   ]
  },
  {
   "cell_type": "code",
   "execution_count": 28,
   "id": "t7tLMbAbMv-6",
   "metadata": {
    "colab": {
     "base_uri": "https://localhost:8080/",
     "height": 206
    },
    "id": "t7tLMbAbMv-6",
    "outputId": "1c0ba3a9-54dc-4fc6-9a55-103ec1deec84"
   },
   "outputs": [
    {
     "data": {
      "text/html": [
       "<div>\n",
       "<style scoped>\n",
       "    .dataframe tbody tr th:only-of-type {\n",
       "        vertical-align: middle;\n",
       "    }\n",
       "\n",
       "    .dataframe tbody tr th {\n",
       "        vertical-align: top;\n",
       "    }\n",
       "\n",
       "    .dataframe thead th {\n",
       "        text-align: right;\n",
       "    }\n",
       "</style>\n",
       "<table border=\"1\" class=\"dataframe\">\n",
       "  <thead>\n",
       "    <tr style=\"text-align: right;\">\n",
       "      <th></th>\n",
       "      <th>id</th>\n",
       "      <th>url</th>\n",
       "      <th>region</th>\n",
       "      <th>region_url</th>\n",
       "      <th>price</th>\n",
       "      <th>year</th>\n",
       "      <th>manufacturer</th>\n",
       "      <th>model</th>\n",
       "      <th>fuel</th>\n",
       "      <th>odometer</th>\n",
       "      <th>...</th>\n",
       "      <th>short_model</th>\n",
       "      <th>lat_std</th>\n",
       "      <th>long_std</th>\n",
       "      <th>year_std</th>\n",
       "      <th>odometer/price_std</th>\n",
       "      <th>desc_len_std</th>\n",
       "      <th>model_in_desc_std</th>\n",
       "      <th>model_len_std</th>\n",
       "      <th>lat_mm</th>\n",
       "      <th>long_mm</th>\n",
       "    </tr>\n",
       "  </thead>\n",
       "  <tbody>\n",
       "    <tr>\n",
       "      <th>0</th>\n",
       "      <td>7308295377</td>\n",
       "      <td>https://chattanooga.craigslist.org/ctd/d/chatt...</td>\n",
       "      <td>chattanooga</td>\n",
       "      <td>https://chattanooga.craigslist.org</td>\n",
       "      <td>54990</td>\n",
       "      <td>2020</td>\n",
       "      <td>ram</td>\n",
       "      <td>2500 crew cab big horn</td>\n",
       "      <td>diesel</td>\n",
       "      <td>27442</td>\n",
       "      <td>...</td>\n",
       "      <td>2500</td>\n",
       "      <td>-0.619172</td>\n",
       "      <td>0.484245</td>\n",
       "      <td>1.322394</td>\n",
       "      <td>-0.510784</td>\n",
       "      <td>0.632075</td>\n",
       "      <td>-0.155788</td>\n",
       "      <td>1.163032</td>\n",
       "      <td>-0.619172</td>\n",
       "      <td>0.484245</td>\n",
       "    </tr>\n",
       "    <tr>\n",
       "      <th>1</th>\n",
       "      <td>7316380095</td>\n",
       "      <td>https://newjersey.craigslist.org/ctd/d/carlsta...</td>\n",
       "      <td>north jersey</td>\n",
       "      <td>https://newjersey.craigslist.org</td>\n",
       "      <td>16942</td>\n",
       "      <td>2016</td>\n",
       "      <td>ford</td>\n",
       "      <td>explorer 4wd 4dr xlt</td>\n",
       "      <td>other</td>\n",
       "      <td>60023</td>\n",
       "      <td>...</td>\n",
       "      <td>explorer</td>\n",
       "      <td>0.388014</td>\n",
       "      <td>1.110800</td>\n",
       "      <td>0.695973</td>\n",
       "      <td>-0.402947</td>\n",
       "      <td>-0.646781</td>\n",
       "      <td>-0.155788</td>\n",
       "      <td>0.932087</td>\n",
       "      <td>0.388014</td>\n",
       "      <td>1.110800</td>\n",
       "    </tr>\n",
       "    <tr>\n",
       "      <th>2</th>\n",
       "      <td>7313733749</td>\n",
       "      <td>https://reno.craigslist.org/ctd/d/atlanta-2017...</td>\n",
       "      <td>reno / tahoe</td>\n",
       "      <td>https://reno.craigslist.org</td>\n",
       "      <td>35590</td>\n",
       "      <td>2017</td>\n",
       "      <td>volkswagen</td>\n",
       "      <td>golf r hatchback</td>\n",
       "      <td>gas</td>\n",
       "      <td>14048</td>\n",
       "      <td>...</td>\n",
       "      <td>golf</td>\n",
       "      <td>-0.843059</td>\n",
       "      <td>0.531185</td>\n",
       "      <td>0.852578</td>\n",
       "      <td>-0.514480</td>\n",
       "      <td>0.560744</td>\n",
       "      <td>-0.155788</td>\n",
       "      <td>0.470197</td>\n",
       "      <td>-0.843059</td>\n",
       "      <td>0.531185</td>\n",
       "    </tr>\n",
       "    <tr>\n",
       "      <th>3</th>\n",
       "      <td>7308210929</td>\n",
       "      <td>https://fayetteville.craigslist.org/ctd/d/rale...</td>\n",
       "      <td>fayetteville</td>\n",
       "      <td>https://fayetteville.craigslist.org</td>\n",
       "      <td>14500</td>\n",
       "      <td>2013</td>\n",
       "      <td>toyota</td>\n",
       "      <td>rav4</td>\n",
       "      <td>gas</td>\n",
       "      <td>117291</td>\n",
       "      <td>...</td>\n",
       "      <td>rav4</td>\n",
       "      <td>-0.504509</td>\n",
       "      <td>0.853562</td>\n",
       "      <td>0.226157</td>\n",
       "      <td>-0.241883</td>\n",
       "      <td>0.180435</td>\n",
       "      <td>-0.155788</td>\n",
       "      <td>-0.915473</td>\n",
       "      <td>-0.504509</td>\n",
       "      <td>0.853562</td>\n",
       "    </tr>\n",
       "    <tr>\n",
       "      <th>4</th>\n",
       "      <td>7303797340</td>\n",
       "      <td>https://knoxville.craigslist.org/ctd/d/knoxvil...</td>\n",
       "      <td>knoxville</td>\n",
       "      <td>https://knoxville.craigslist.org</td>\n",
       "      <td>14590</td>\n",
       "      <td>2012</td>\n",
       "      <td>bmw</td>\n",
       "      <td>1 series 128i coupe 2d</td>\n",
       "      <td>other</td>\n",
       "      <td>80465</td>\n",
       "      <td>...</td>\n",
       "      <td>1</td>\n",
       "      <td>-0.460101</td>\n",
       "      <td>0.557607</td>\n",
       "      <td>0.069552</td>\n",
       "      <td>-0.333074</td>\n",
       "      <td>0.766366</td>\n",
       "      <td>-0.155788</td>\n",
       "      <td>1.163032</td>\n",
       "      <td>-0.460101</td>\n",
       "      <td>0.557607</td>\n",
       "    </tr>\n",
       "    <tr>\n",
       "      <th>...</th>\n",
       "      <td>...</td>\n",
       "      <td>...</td>\n",
       "      <td>...</td>\n",
       "      <td>...</td>\n",
       "      <td>...</td>\n",
       "      <td>...</td>\n",
       "      <td>...</td>\n",
       "      <td>...</td>\n",
       "      <td>...</td>\n",
       "      <td>...</td>\n",
       "      <td>...</td>\n",
       "      <td>...</td>\n",
       "      <td>...</td>\n",
       "      <td>...</td>\n",
       "      <td>...</td>\n",
       "      <td>...</td>\n",
       "      <td>...</td>\n",
       "      <td>...</td>\n",
       "      <td>...</td>\n",
       "      <td>...</td>\n",
       "      <td>...</td>\n",
       "    </tr>\n",
       "    <tr>\n",
       "      <th>9614</th>\n",
       "      <td>7304876387</td>\n",
       "      <td>https://chautauqua.craigslist.org/ctd/d/falcon...</td>\n",
       "      <td>chautauqua</td>\n",
       "      <td>https://chautauqua.craigslist.org</td>\n",
       "      <td>4495</td>\n",
       "      <td>2002</td>\n",
       "      <td>toyota</td>\n",
       "      <td>rav4</td>\n",
       "      <td>gas</td>\n",
       "      <td>150000</td>\n",
       "      <td>...</td>\n",
       "      <td>rav4</td>\n",
       "      <td>0.615626</td>\n",
       "      <td>0.823646</td>\n",
       "      <td>-1.496501</td>\n",
       "      <td>0.653795</td>\n",
       "      <td>-0.376744</td>\n",
       "      <td>-0.155788</td>\n",
       "      <td>-0.915473</td>\n",
       "      <td>0.615626</td>\n",
       "      <td>0.823646</td>\n",
       "    </tr>\n",
       "    <tr>\n",
       "      <th>9615</th>\n",
       "      <td>7316152972</td>\n",
       "      <td>https://binghamton.craigslist.org/ctd/d/roches...</td>\n",
       "      <td>binghamton</td>\n",
       "      <td>https://binghamton.craigslist.org</td>\n",
       "      <td>14495</td>\n",
       "      <td>2008</td>\n",
       "      <td>jeep</td>\n",
       "      <td>wrangler</td>\n",
       "      <td>gas</td>\n",
       "      <td>113573</td>\n",
       "      <td>...</td>\n",
       "      <td>wrangler</td>\n",
       "      <td>0.806702</td>\n",
       "      <td>0.903947</td>\n",
       "      <td>-0.556869</td>\n",
       "      <td>-0.250872</td>\n",
       "      <td>-0.654060</td>\n",
       "      <td>-0.155788</td>\n",
       "      <td>-0.453583</td>\n",
       "      <td>0.806702</td>\n",
       "      <td>0.903947</td>\n",
       "    </tr>\n",
       "    <tr>\n",
       "      <th>9616</th>\n",
       "      <td>7310993818</td>\n",
       "      <td>https://salem.craigslist.org/ctd/d/salem-2011-...</td>\n",
       "      <td>salem</td>\n",
       "      <td>https://salem.craigslist.org</td>\n",
       "      <td>8995</td>\n",
       "      <td>2011</td>\n",
       "      <td>audi</td>\n",
       "      <td>a3 2.0t premium plus pzev</td>\n",
       "      <td>gas</td>\n",
       "      <td>150184</td>\n",
       "      <td>...</td>\n",
       "      <td>a3</td>\n",
       "      <td>1.105428</td>\n",
       "      <td>-1.628875</td>\n",
       "      <td>-0.087054</td>\n",
       "      <td>0.063061</td>\n",
       "      <td>-0.668253</td>\n",
       "      <td>-0.155788</td>\n",
       "      <td>1.509450</td>\n",
       "      <td>1.105428</td>\n",
       "      <td>-1.628875</td>\n",
       "    </tr>\n",
       "    <tr>\n",
       "      <th>9617</th>\n",
       "      <td>7306637427</td>\n",
       "      <td>https://madison.craigslist.org/ctd/d/madison-2...</td>\n",
       "      <td>madison</td>\n",
       "      <td>https://madison.craigslist.org</td>\n",
       "      <td>31900</td>\n",
       "      <td>2015</td>\n",
       "      <td>porsche</td>\n",
       "      <td>cayenne</td>\n",
       "      <td>hybrid</td>\n",
       "      <td>61943</td>\n",
       "      <td>...</td>\n",
       "      <td>cayenne</td>\n",
       "      <td>0.773939</td>\n",
       "      <td>0.251959</td>\n",
       "      <td>0.539367</td>\n",
       "      <td>-0.459670</td>\n",
       "      <td>0.327100</td>\n",
       "      <td>-0.155788</td>\n",
       "      <td>-0.569055</td>\n",
       "      <td>0.773939</td>\n",
       "      <td>0.251959</td>\n",
       "    </tr>\n",
       "    <tr>\n",
       "      <th>9618</th>\n",
       "      <td>7311960763</td>\n",
       "      <td>https://norfolk.craigslist.org/ctd/d/chesapeak...</td>\n",
       "      <td>norfolk / hampton roads</td>\n",
       "      <td>https://norfolk.craigslist.org</td>\n",
       "      <td>31990</td>\n",
       "      <td>2017</td>\n",
       "      <td>ram</td>\n",
       "      <td>1500 crew cab big horn</td>\n",
       "      <td>gas</td>\n",
       "      <td>35921</td>\n",
       "      <td>...</td>\n",
       "      <td>1500</td>\n",
       "      <td>-0.337738</td>\n",
       "      <td>0.985465</td>\n",
       "      <td>0.852578</td>\n",
       "      <td>-0.488682</td>\n",
       "      <td>0.632439</td>\n",
       "      <td>-0.155788</td>\n",
       "      <td>1.163032</td>\n",
       "      <td>-0.337738</td>\n",
       "      <td>0.985465</td>\n",
       "    </tr>\n",
       "  </tbody>\n",
       "</table>\n",
       "<p>9619 rows × 55 columns</p>\n",
       "</div>"
      ],
      "text/plain": [
       "              id                                                url  \\\n",
       "0     7308295377  https://chattanooga.craigslist.org/ctd/d/chatt...   \n",
       "1     7316380095  https://newjersey.craigslist.org/ctd/d/carlsta...   \n",
       "2     7313733749  https://reno.craigslist.org/ctd/d/atlanta-2017...   \n",
       "3     7308210929  https://fayetteville.craigslist.org/ctd/d/rale...   \n",
       "4     7303797340  https://knoxville.craigslist.org/ctd/d/knoxvil...   \n",
       "...          ...                                                ...   \n",
       "9614  7304876387  https://chautauqua.craigslist.org/ctd/d/falcon...   \n",
       "9615  7316152972  https://binghamton.craigslist.org/ctd/d/roches...   \n",
       "9616  7310993818  https://salem.craigslist.org/ctd/d/salem-2011-...   \n",
       "9617  7306637427  https://madison.craigslist.org/ctd/d/madison-2...   \n",
       "9618  7311960763  https://norfolk.craigslist.org/ctd/d/chesapeak...   \n",
       "\n",
       "                       region                           region_url  price  \\\n",
       "0                 chattanooga   https://chattanooga.craigslist.org  54990   \n",
       "1                north jersey     https://newjersey.craigslist.org  16942   \n",
       "2                reno / tahoe          https://reno.craigslist.org  35590   \n",
       "3                fayetteville  https://fayetteville.craigslist.org  14500   \n",
       "4                   knoxville     https://knoxville.craigslist.org  14590   \n",
       "...                       ...                                  ...    ...   \n",
       "9614               chautauqua    https://chautauqua.craigslist.org   4495   \n",
       "9615               binghamton    https://binghamton.craigslist.org  14495   \n",
       "9616                    salem         https://salem.craigslist.org   8995   \n",
       "9617                  madison       https://madison.craigslist.org  31900   \n",
       "9618  norfolk / hampton roads       https://norfolk.craigslist.org  31990   \n",
       "\n",
       "      year manufacturer                      model    fuel  odometer  ...  \\\n",
       "0     2020          ram     2500 crew cab big horn  diesel     27442  ...   \n",
       "1     2016         ford       explorer 4wd 4dr xlt   other     60023  ...   \n",
       "2     2017   volkswagen           golf r hatchback     gas     14048  ...   \n",
       "3     2013       toyota                       rav4     gas    117291  ...   \n",
       "4     2012          bmw     1 series 128i coupe 2d   other     80465  ...   \n",
       "...    ...          ...                        ...     ...       ...  ...   \n",
       "9614  2002       toyota                       rav4     gas    150000  ...   \n",
       "9615  2008         jeep                   wrangler     gas    113573  ...   \n",
       "9616  2011         audi  a3 2.0t premium plus pzev     gas    150184  ...   \n",
       "9617  2015      porsche                    cayenne  hybrid     61943  ...   \n",
       "9618  2017          ram     1500 crew cab big horn     gas     35921  ...   \n",
       "\n",
       "     short_model   lat_std  long_std  year_std odometer/price_std  \\\n",
       "0           2500 -0.619172  0.484245  1.322394          -0.510784   \n",
       "1       explorer  0.388014  1.110800  0.695973          -0.402947   \n",
       "2           golf -0.843059  0.531185  0.852578          -0.514480   \n",
       "3           rav4 -0.504509  0.853562  0.226157          -0.241883   \n",
       "4              1 -0.460101  0.557607  0.069552          -0.333074   \n",
       "...          ...       ...       ...       ...                ...   \n",
       "9614        rav4  0.615626  0.823646 -1.496501           0.653795   \n",
       "9615    wrangler  0.806702  0.903947 -0.556869          -0.250872   \n",
       "9616          a3  1.105428 -1.628875 -0.087054           0.063061   \n",
       "9617     cayenne  0.773939  0.251959  0.539367          -0.459670   \n",
       "9618        1500 -0.337738  0.985465  0.852578          -0.488682   \n",
       "\n",
       "      desc_len_std  model_in_desc_std model_len_std    lat_mm   long_mm  \n",
       "0         0.632075          -0.155788      1.163032 -0.619172  0.484245  \n",
       "1        -0.646781          -0.155788      0.932087  0.388014  1.110800  \n",
       "2         0.560744          -0.155788      0.470197 -0.843059  0.531185  \n",
       "3         0.180435          -0.155788     -0.915473 -0.504509  0.853562  \n",
       "4         0.766366          -0.155788      1.163032 -0.460101  0.557607  \n",
       "...            ...                ...           ...       ...       ...  \n",
       "9614     -0.376744          -0.155788     -0.915473  0.615626  0.823646  \n",
       "9615     -0.654060          -0.155788     -0.453583  0.806702  0.903947  \n",
       "9616     -0.668253          -0.155788      1.509450  1.105428 -1.628875  \n",
       "9617      0.327100          -0.155788     -0.569055  0.773939  0.251959  \n",
       "9618      0.632439          -0.155788      1.163032 -0.337738  0.985465  \n",
       "\n",
       "[9619 rows x 55 columns]"
      ]
     },
     "execution_count": 28,
     "metadata": {},
     "output_type": "execute_result"
    }
   ],
   "source": [
    "df"
   ]
  },
  {
   "cell_type": "markdown",
   "id": "71044c34",
   "metadata": {
    "id": "71044c34"
   },
   "source": [
    "4. Создайте переменную под географические признаки `lat`, `lat_std`, `lat_mm`, `long`, `long_std`, `long_mm` и выведите их. Посмотрите на различия в значениях для исходных признаков и нормализованных с помощью стандартизации и MinMax-преобразования. "
   ]
  },
  {
   "cell_type": "code",
   "execution_count": 29,
   "id": "27642284",
   "metadata": {
    "ExecuteTime": {
     "end_time": "2022-03-15T22:40:47.408669Z",
     "start_time": "2022-03-15T22:40:47.402057Z"
    },
    "colab": {
     "base_uri": "https://localhost:8080/",
     "height": 424
    },
    "id": "27642284",
    "outputId": "0cf0977d-5dee-4ca4-8c39-f136011892d9"
   },
   "outputs": [
    {
     "data": {
      "text/html": [
       "<div>\n",
       "<style scoped>\n",
       "    .dataframe tbody tr th:only-of-type {\n",
       "        vertical-align: middle;\n",
       "    }\n",
       "\n",
       "    .dataframe tbody tr th {\n",
       "        vertical-align: top;\n",
       "    }\n",
       "\n",
       "    .dataframe thead th {\n",
       "        text-align: right;\n",
       "    }\n",
       "</style>\n",
       "<table border=\"1\" class=\"dataframe\">\n",
       "  <thead>\n",
       "    <tr style=\"text-align: right;\">\n",
       "      <th></th>\n",
       "      <th>lat</th>\n",
       "      <th>lat_std</th>\n",
       "      <th>lat_mm</th>\n",
       "      <th>long</th>\n",
       "      <th>long_std</th>\n",
       "      <th>long_mm</th>\n",
       "    </tr>\n",
       "  </thead>\n",
       "  <tbody>\n",
       "    <tr>\n",
       "      <th>0</th>\n",
       "      <td>35.060000</td>\n",
       "      <td>-0.619172</td>\n",
       "      <td>-0.619172</td>\n",
       "      <td>-85.250000</td>\n",
       "      <td>0.484245</td>\n",
       "      <td>0.484245</td>\n",
       "    </tr>\n",
       "    <tr>\n",
       "      <th>1</th>\n",
       "      <td>40.821805</td>\n",
       "      <td>0.388014</td>\n",
       "      <td>0.388014</td>\n",
       "      <td>-74.061962</td>\n",
       "      <td>1.110800</td>\n",
       "      <td>1.110800</td>\n",
       "    </tr>\n",
       "    <tr>\n",
       "      <th>2</th>\n",
       "      <td>33.779214</td>\n",
       "      <td>-0.843059</td>\n",
       "      <td>-0.843059</td>\n",
       "      <td>-84.411811</td>\n",
       "      <td>0.531185</td>\n",
       "      <td>0.531185</td>\n",
       "    </tr>\n",
       "    <tr>\n",
       "      <th>3</th>\n",
       "      <td>35.715954</td>\n",
       "      <td>-0.504509</td>\n",
       "      <td>-0.504509</td>\n",
       "      <td>-78.655304</td>\n",
       "      <td>0.853562</td>\n",
       "      <td>0.853562</td>\n",
       "    </tr>\n",
       "    <tr>\n",
       "      <th>4</th>\n",
       "      <td>35.970000</td>\n",
       "      <td>-0.460101</td>\n",
       "      <td>-0.460101</td>\n",
       "      <td>-83.940000</td>\n",
       "      <td>0.557607</td>\n",
       "      <td>0.557607</td>\n",
       "    </tr>\n",
       "    <tr>\n",
       "      <th>...</th>\n",
       "      <td>...</td>\n",
       "      <td>...</td>\n",
       "      <td>...</td>\n",
       "      <td>...</td>\n",
       "      <td>...</td>\n",
       "      <td>...</td>\n",
       "    </tr>\n",
       "    <tr>\n",
       "      <th>9614</th>\n",
       "      <td>42.123900</td>\n",
       "      <td>0.615626</td>\n",
       "      <td>0.615626</td>\n",
       "      <td>-79.189500</td>\n",
       "      <td>0.823646</td>\n",
       "      <td>0.823646</td>\n",
       "    </tr>\n",
       "    <tr>\n",
       "      <th>9615</th>\n",
       "      <td>43.216990</td>\n",
       "      <td>0.806702</td>\n",
       "      <td>0.806702</td>\n",
       "      <td>-77.755610</td>\n",
       "      <td>0.903947</td>\n",
       "      <td>0.903947</td>\n",
       "    </tr>\n",
       "    <tr>\n",
       "      <th>9616</th>\n",
       "      <td>44.925908</td>\n",
       "      <td>1.105428</td>\n",
       "      <td>1.105428</td>\n",
       "      <td>-122.982753</td>\n",
       "      <td>-1.628875</td>\n",
       "      <td>-1.628875</td>\n",
       "    </tr>\n",
       "    <tr>\n",
       "      <th>9617</th>\n",
       "      <td>43.029559</td>\n",
       "      <td>0.773939</td>\n",
       "      <td>0.773939</td>\n",
       "      <td>-89.397796</td>\n",
       "      <td>0.251959</td>\n",
       "      <td>0.251959</td>\n",
       "    </tr>\n",
       "    <tr>\n",
       "      <th>9618</th>\n",
       "      <td>36.670000</td>\n",
       "      <td>-0.337738</td>\n",
       "      <td>-0.337738</td>\n",
       "      <td>-76.300000</td>\n",
       "      <td>0.985465</td>\n",
       "      <td>0.985465</td>\n",
       "    </tr>\n",
       "  </tbody>\n",
       "</table>\n",
       "<p>9619 rows × 6 columns</p>\n",
       "</div>"
      ],
      "text/plain": [
       "            lat   lat_std    lat_mm        long  long_std   long_mm\n",
       "0     35.060000 -0.619172 -0.619172  -85.250000  0.484245  0.484245\n",
       "1     40.821805  0.388014  0.388014  -74.061962  1.110800  1.110800\n",
       "2     33.779214 -0.843059 -0.843059  -84.411811  0.531185  0.531185\n",
       "3     35.715954 -0.504509 -0.504509  -78.655304  0.853562  0.853562\n",
       "4     35.970000 -0.460101 -0.460101  -83.940000  0.557607  0.557607\n",
       "...         ...       ...       ...         ...       ...       ...\n",
       "9614  42.123900  0.615626  0.615626  -79.189500  0.823646  0.823646\n",
       "9615  43.216990  0.806702  0.806702  -77.755610  0.903947  0.903947\n",
       "9616  44.925908  1.105428  1.105428 -122.982753 -1.628875 -1.628875\n",
       "9617  43.029559  0.773939  0.773939  -89.397796  0.251959  0.251959\n",
       "9618  36.670000 -0.337738 -0.337738  -76.300000  0.985465  0.985465\n",
       "\n",
       "[9619 rows x 6 columns]"
      ]
     },
     "execution_count": 29,
     "metadata": {},
     "output_type": "execute_result"
    }
   ],
   "source": [
    "# Ваш код здесь\n",
    "geographic = df[['lat', 'lat_std','lat_mm', 'long','long_std','long_mm']]\n",
    "geographic"
   ]
  },
  {
   "cell_type": "markdown",
   "id": "ef219d5f",
   "metadata": {
    "id": "ef219d5f"
   },
   "source": [
    "5. Выведите описательные статистики для всех географических признаков. Посмотрите на различия в статистиках для исходных признаков и нормализованных с помощью стандартизации и MinMax-преобразования."
   ]
  },
  {
   "cell_type": "code",
   "execution_count": 30,
   "id": "453b92ff",
   "metadata": {
    "ExecuteTime": {
     "end_time": "2022-03-15T22:40:47.738681Z",
     "start_time": "2022-03-15T22:40:47.730698Z"
    },
    "colab": {
     "base_uri": "https://localhost:8080/",
     "height": 300
    },
    "id": "453b92ff",
    "outputId": "e666bb43-72b4-48a3-d630-82e2384698df"
   },
   "outputs": [
    {
     "data": {
      "text/html": [
       "<div>\n",
       "<style scoped>\n",
       "    .dataframe tbody tr th:only-of-type {\n",
       "        vertical-align: middle;\n",
       "    }\n",
       "\n",
       "    .dataframe tbody tr th {\n",
       "        vertical-align: top;\n",
       "    }\n",
       "\n",
       "    .dataframe thead th {\n",
       "        text-align: right;\n",
       "    }\n",
       "</style>\n",
       "<table border=\"1\" class=\"dataframe\">\n",
       "  <thead>\n",
       "    <tr style=\"text-align: right;\">\n",
       "      <th></th>\n",
       "      <th>lat</th>\n",
       "      <th>lat_std</th>\n",
       "      <th>lat_mm</th>\n",
       "      <th>long</th>\n",
       "      <th>long_std</th>\n",
       "      <th>long_mm</th>\n",
       "    </tr>\n",
       "  </thead>\n",
       "  <tbody>\n",
       "    <tr>\n",
       "      <th>count</th>\n",
       "      <td>9619.000000</td>\n",
       "      <td>9.619000e+03</td>\n",
       "      <td>9.619000e+03</td>\n",
       "      <td>9619.000000</td>\n",
       "      <td>9.619000e+03</td>\n",
       "      <td>9.619000e+03</td>\n",
       "    </tr>\n",
       "    <tr>\n",
       "      <th>mean</th>\n",
       "      <td>38.602095</td>\n",
       "      <td>2.108662e-16</td>\n",
       "      <td>2.108662e-16</td>\n",
       "      <td>-93.896875</td>\n",
       "      <td>-4.267993e-16</td>\n",
       "      <td>-4.267993e-16</td>\n",
       "    </tr>\n",
       "    <tr>\n",
       "      <th>std</th>\n",
       "      <td>5.720989</td>\n",
       "      <td>1.000052e+00</td>\n",
       "      <td>1.000052e+00</td>\n",
       "      <td>17.857352</td>\n",
       "      <td>1.000052e+00</td>\n",
       "      <td>1.000052e+00</td>\n",
       "    </tr>\n",
       "    <tr>\n",
       "      <th>min</th>\n",
       "      <td>19.541726</td>\n",
       "      <td>-3.331829e+00</td>\n",
       "      <td>-3.331829e+00</td>\n",
       "      <td>-158.069300</td>\n",
       "      <td>-3.593801e+00</td>\n",
       "      <td>-3.593801e+00</td>\n",
       "    </tr>\n",
       "    <tr>\n",
       "      <th>25%</th>\n",
       "      <td>34.920000</td>\n",
       "      <td>-6.436450e-01</td>\n",
       "      <td>-6.436450e-01</td>\n",
       "      <td>-106.944340</td>\n",
       "      <td>-7.306875e-01</td>\n",
       "      <td>-7.306875e-01</td>\n",
       "    </tr>\n",
       "    <tr>\n",
       "      <th>50%</th>\n",
       "      <td>39.300000</td>\n",
       "      <td>1.219966e-01</td>\n",
       "      <td>1.219966e-01</td>\n",
       "      <td>-87.845800</td>\n",
       "      <td>3.388739e-01</td>\n",
       "      <td>3.388739e-01</td>\n",
       "    </tr>\n",
       "    <tr>\n",
       "      <th>75%</th>\n",
       "      <td>42.382100</td>\n",
       "      <td>6.607601e-01</td>\n",
       "      <td>6.607601e-01</td>\n",
       "      <td>-80.678711</td>\n",
       "      <td>7.402470e-01</td>\n",
       "      <td>7.402470e-01</td>\n",
       "    </tr>\n",
       "    <tr>\n",
       "      <th>max</th>\n",
       "      <td>64.947500</td>\n",
       "      <td>4.605283e+00</td>\n",
       "      <td>4.605283e+00</td>\n",
       "      <td>94.163200</td>\n",
       "      <td>1.053179e+01</td>\n",
       "      <td>1.053179e+01</td>\n",
       "    </tr>\n",
       "  </tbody>\n",
       "</table>\n",
       "</div>"
      ],
      "text/plain": [
       "               lat       lat_std        lat_mm         long      long_std  \\\n",
       "count  9619.000000  9.619000e+03  9.619000e+03  9619.000000  9.619000e+03   \n",
       "mean     38.602095  2.108662e-16  2.108662e-16   -93.896875 -4.267993e-16   \n",
       "std       5.720989  1.000052e+00  1.000052e+00    17.857352  1.000052e+00   \n",
       "min      19.541726 -3.331829e+00 -3.331829e+00  -158.069300 -3.593801e+00   \n",
       "25%      34.920000 -6.436450e-01 -6.436450e-01  -106.944340 -7.306875e-01   \n",
       "50%      39.300000  1.219966e-01  1.219966e-01   -87.845800  3.388739e-01   \n",
       "75%      42.382100  6.607601e-01  6.607601e-01   -80.678711  7.402470e-01   \n",
       "max      64.947500  4.605283e+00  4.605283e+00    94.163200  1.053179e+01   \n",
       "\n",
       "            long_mm  \n",
       "count  9.619000e+03  \n",
       "mean  -4.267993e-16  \n",
       "std    1.000052e+00  \n",
       "min   -3.593801e+00  \n",
       "25%   -7.306875e-01  \n",
       "50%    3.388739e-01  \n",
       "75%    7.402470e-01  \n",
       "max    1.053179e+01  "
      ]
     },
     "execution_count": 30,
     "metadata": {},
     "output_type": "execute_result"
    }
   ],
   "source": [
    "# Ваш код здесь\n",
    "geographic.describe()"
   ]
  },
  {
   "cell_type": "markdown",
   "id": "efac5751",
   "metadata": {
    "id": "efac5751"
   },
   "source": [
    "6. Выведите матрицу корреляций для всех географических признаков, чтобы убедиться, что нормализация признаков сохранила свойства исходных признаков."
   ]
  },
  {
   "cell_type": "code",
   "execution_count": 31,
   "id": "10bcd5c8",
   "metadata": {
    "ExecuteTime": {
     "end_time": "2022-03-15T22:40:47.841822Z",
     "start_time": "2022-03-15T22:40:47.835737Z"
    },
    "colab": {
     "base_uri": "https://localhost:8080/"
    },
    "id": "10bcd5c8",
    "outputId": "57ea0c35-0c55-4b02-b1f7-65d12c3cb310"
   },
   "outputs": [
    {
     "data": {
      "text/plain": [
       "array([[-0.61917248, -0.61917248, -0.61917248,  0.48424452,  0.48424452,\n",
       "         0.48424452],\n",
       "       [ 0.38801429,  0.38801429,  0.38801429,  1.11079989,  1.11079989,\n",
       "         1.11079989],\n",
       "       [-0.84305905, -0.84305905, -0.84305905,  0.531185  ,  0.531185  ,\n",
       "         0.531185  ],\n",
       "       ...,\n",
       "       [ 1.10542805,  1.10542805,  1.10542805, -1.62887477, -1.62887477,\n",
       "        -1.62887477],\n",
       "       [ 0.7739386 ,  0.7739386 ,  0.7739386 ,  0.25195859,  0.25195859,\n",
       "         0.25195859],\n",
       "       [-0.33773799, -0.33773799, -0.33773799,  0.98546471,  0.98546471,\n",
       "         0.98546471]])"
      ]
     },
     "execution_count": 31,
     "metadata": {},
     "output_type": "execute_result"
    }
   ],
   "source": [
    "# Ваш код здесь\n",
    "std_scaler_1.fit(geographic)\n",
    "std_scaled_2 = std_scaler_1.transform(geographic)\n",
    "std_scaled_2"
   ]
  },
  {
   "cell_type": "markdown",
   "id": "f87792e8",
   "metadata": {
    "ExecuteTime": {
     "end_time": "2022-03-13T12:00:09.641795Z",
     "start_time": "2022-03-13T12:00:09.636474Z"
    },
    "id": "f87792e8"
   },
   "source": [
    "### Задача 5. Признаки на основе дат\n",
    "\n",
    "1. Выведите по отдельности колонки `posting_date` и `date`. "
   ]
  },
  {
   "cell_type": "code",
   "execution_count": 32,
   "id": "1cf0cc30",
   "metadata": {
    "ExecuteTime": {
     "end_time": "2022-03-15T22:40:48.879395Z",
     "start_time": "2022-03-15T22:40:48.875098Z"
    },
    "colab": {
     "base_uri": "https://localhost:8080/"
    },
    "id": "1cf0cc30",
    "outputId": "f0f8056f-02d3-4e95-f750-0325a7e266b6"
   },
   "outputs": [
    {
     "data": {
      "text/plain": [
       "0       2021-04-17T12:30:50-0400\n",
       "1       2021-05-03T15:40:21-0400\n",
       "2       2021-04-28T03:52:20-0700\n",
       "3       2021-04-17T10:08:57-0400\n",
       "4       2021-04-08T15:10:56-0400\n",
       "                  ...           \n",
       "9614    2021-04-10T16:33:57-0400\n",
       "9615    2021-05-03T09:36:30-0400\n",
       "9616    2021-04-22T12:14:01-0700\n",
       "9617    2021-04-14T09:14:42-0500\n",
       "9618    2021-04-24T13:50:49-0400\n",
       "Name: posting_date, Length: 9619, dtype: object"
      ]
     },
     "execution_count": 32,
     "metadata": {},
     "output_type": "execute_result"
    }
   ],
   "source": [
    "# Ваш код здесь\n",
    "df.posting_date"
   ]
  },
  {
   "cell_type": "code",
   "execution_count": 33,
   "id": "jx4JpcvfQIVW",
   "metadata": {
    "colab": {
     "base_uri": "https://localhost:8080/"
    },
    "id": "jx4JpcvfQIVW",
    "outputId": "1206071c-03ae-4a56-d496-d0d45e3f899f"
   },
   "outputs": [
    {
     "data": {
      "text/plain": [
       "0       2021-04-17 16:30:50+00:00\n",
       "1       2021-05-03 19:40:21+00:00\n",
       "2       2021-04-28 10:52:20+00:00\n",
       "3       2021-04-17 14:08:57+00:00\n",
       "4       2021-04-08 19:10:56+00:00\n",
       "                  ...            \n",
       "9614    2021-04-10 20:33:57+00:00\n",
       "9615    2021-05-03 13:36:30+00:00\n",
       "9616    2021-04-22 19:14:01+00:00\n",
       "9617    2021-04-14 14:14:42+00:00\n",
       "9618    2021-04-24 17:50:49+00:00\n",
       "Name: date, Length: 9619, dtype: object"
      ]
     },
     "execution_count": 33,
     "metadata": {},
     "output_type": "execute_result"
    }
   ],
   "source": [
    "df.date"
   ]
  },
  {
   "cell_type": "markdown",
   "id": "a154545f",
   "metadata": {
    "id": "a154545f"
   },
   "source": [
    "2. Ранее преобразованная колонка `date` после сохранения в файл и загрузки из него содержит данные в строковом формате, поэтому измените её тип c помощью `pd.to_datetime`."
   ]
  },
  {
   "cell_type": "code",
   "execution_count": 34,
   "id": "a196635b",
   "metadata": {
    "ExecuteTime": {
     "end_time": "2022-03-15T22:49:02.356258Z",
     "start_time": "2022-03-15T22:49:02.315893Z"
    },
    "colab": {
     "base_uri": "https://localhost:8080/"
    },
    "id": "a196635b",
    "outputId": "53201b97-eeef-44d6-8302-797dd3935afe"
   },
   "outputs": [
    {
     "data": {
      "text/plain": [
       "0      2021-04-17 16:30:50+00:00\n",
       "1      2021-05-03 19:40:21+00:00\n",
       "2      2021-04-28 10:52:20+00:00\n",
       "3      2021-04-17 14:08:57+00:00\n",
       "4      2021-04-08 19:10:56+00:00\n",
       "                  ...           \n",
       "9614   2021-04-10 20:33:57+00:00\n",
       "9615   2021-05-03 13:36:30+00:00\n",
       "9616   2021-04-22 19:14:01+00:00\n",
       "9617   2021-04-14 14:14:42+00:00\n",
       "9618   2021-04-24 17:50:49+00:00\n",
       "Name: date, Length: 9619, dtype: datetime64[ns, UTC]"
      ]
     },
     "execution_count": 34,
     "metadata": {},
     "output_type": "execute_result"
    }
   ],
   "source": [
    "# Ваш код здесь\n",
    "df.date = pd.to_datetime(df.posting_date, utc=True)\n",
    "df.date"
   ]
  },
  {
   "cell_type": "markdown",
   "id": "c9b3e6f1",
   "metadata": {
    "id": "c9b3e6f1"
   },
   "source": [
    "3. Несколькими способами извлеките номер месяца продажи автомобиля:\n",
    "\n",
    "3.1 Из переменной `posting_date` с помощью lambda-функции и операций над строками."
   ]
  },
  {
   "cell_type": "code",
   "execution_count": 35,
   "id": "7fb35f85",
   "metadata": {
    "ExecuteTime": {
     "end_time": "2022-03-15T22:40:51.380851Z",
     "start_time": "2022-03-15T22:40:51.369103Z"
    },
    "colab": {
     "base_uri": "https://localhost:8080/"
    },
    "id": "7fb35f85",
    "outputId": "d0606837-3ecd-4f5f-ab71-a63bc5499219"
   },
   "outputs": [
    {
     "data": {
      "text/plain": [
       "0       04\n",
       "1       05\n",
       "2       04\n",
       "3       04\n",
       "4       04\n",
       "        ..\n",
       "9614    04\n",
       "9615    05\n",
       "9616    04\n",
       "9617    04\n",
       "9618    04\n",
       "Name: posting_date, Length: 9619, dtype: object"
      ]
     },
     "execution_count": 35,
     "metadata": {},
     "output_type": "execute_result"
    }
   ],
   "source": [
    "# Ваш код здесь\n",
    "df.posting_date.apply(lambda x: x.split(' ')[0].split('-')[1])"
   ]
  },
  {
   "cell_type": "markdown",
   "id": "3218fd7e",
   "metadata": {
    "id": "3218fd7e"
   },
   "source": [
    "3.2 Из переменной `date` с помощью с помощью lambda-функции и метода `month`."
   ]
  },
  {
   "cell_type": "code",
   "execution_count": 36,
   "id": "TDU4ooxLayIa",
   "metadata": {
    "colab": {
     "base_uri": "https://localhost:8080/"
    },
    "id": "TDU4ooxLayIa",
    "outputId": "77d2a455-dcc4-4059-9d11-4b96439fb39f"
   },
   "outputs": [
    {
     "data": {
      "text/plain": [
       "5"
      ]
     },
     "execution_count": 36,
     "metadata": {},
     "output_type": "execute_result"
    }
   ],
   "source": [
    "months = df.date[1].month\n",
    "months"
   ]
  },
  {
   "cell_type": "markdown",
   "id": "4000edd6",
   "metadata": {
    "ExecuteTime": {
     "end_time": "2022-03-13T12:25:21.228094Z",
     "start_time": "2022-03-13T12:25:21.223060Z"
    },
    "id": "4000edd6"
   },
   "source": [
    "3.3 Из переменной `date` с помощью с помощью `dt` и метода `month`."
   ]
  },
  {
   "cell_type": "code",
   "execution_count": 37,
   "id": "b4112009",
   "metadata": {
    "ExecuteTime": {
     "end_time": "2022-03-15T22:40:55.768506Z",
     "start_time": "2022-03-15T22:40:55.764567Z"
    },
    "colab": {
     "base_uri": "https://localhost:8080/"
    },
    "id": "b4112009",
    "outputId": "bb768c7f-9204-4c10-b0fc-1e8a8ad4b047"
   },
   "outputs": [
    {
     "data": {
      "text/plain": [
       "0       4\n",
       "1       5\n",
       "2       4\n",
       "3       4\n",
       "4       4\n",
       "       ..\n",
       "9614    4\n",
       "9615    5\n",
       "9616    4\n",
       "9617    4\n",
       "9618    4\n",
       "Name: date, Length: 9619, dtype: int64"
      ]
     },
     "execution_count": 37,
     "metadata": {},
     "output_type": "execute_result"
    }
   ],
   "source": [
    "# Ваш код здесь\n",
    "df.date.dt.month"
   ]
  },
  {
   "cell_type": "markdown",
   "id": "4c79c093",
   "metadata": {
    "id": "4c79c093"
   },
   "source": [
    "4. Создайте любым из способов 3.2 или 3.3 признак `month`, обозначающий номер месяца размещения объявления о продаже автомобиля, и распечатайте его."
   ]
  },
  {
   "cell_type": "code",
   "execution_count": 38,
   "id": "a6f217a1",
   "metadata": {
    "ExecuteTime": {
     "end_time": "2022-03-15T22:40:55.808808Z",
     "start_time": "2022-03-15T22:40:55.801804Z"
    },
    "colab": {
     "base_uri": "https://localhost:8080/"
    },
    "id": "a6f217a1",
    "outputId": "ab28bd0d-8033-4001-ef7d-c8e2bb172fb1"
   },
   "outputs": [
    {
     "data": {
      "text/plain": [
       "0       4\n",
       "1       5\n",
       "2       4\n",
       "3       4\n",
       "4       4\n",
       "       ..\n",
       "9614    4\n",
       "9615    5\n",
       "9616    4\n",
       "9617    4\n",
       "9618    4\n",
       "Name: month, Length: 9619, dtype: int64"
      ]
     },
     "execution_count": 38,
     "metadata": {},
     "output_type": "execute_result"
    }
   ],
   "source": [
    "# Ваш код здесь\n",
    "df['month'] = df.date.dt.month\n",
    "df['month']"
   ]
  },
  {
   "cell_type": "markdown",
   "id": "c855e481",
   "metadata": {
    "id": "c855e481"
   },
   "source": [
    "5. Создайте признак `dayofweek`, обозначающий день недели размещения объявления о продаже автомобиля, и распечатайте его."
   ]
  },
  {
   "cell_type": "code",
   "execution_count": 39,
   "id": "ceda59b0",
   "metadata": {
    "ExecuteTime": {
     "end_time": "2022-03-15T22:40:55.838752Z",
     "start_time": "2022-03-15T22:40:55.833582Z"
    },
    "id": "ceda59b0"
   },
   "outputs": [
    {
     "data": {
      "text/plain": [
       "0       5\n",
       "1       0\n",
       "2       2\n",
       "3       5\n",
       "4       3\n",
       "       ..\n",
       "9614    5\n",
       "9615    0\n",
       "9616    3\n",
       "9617    2\n",
       "9618    5\n",
       "Name: dayofweek, Length: 9619, dtype: int64"
      ]
     },
     "execution_count": 39,
     "metadata": {},
     "output_type": "execute_result"
    }
   ],
   "source": [
    "# Ваш код здесь\n",
    "df['dayofweek'] = df.date.dt.weekday\n",
    "df['dayofweek']"
   ]
  },
  {
   "cell_type": "markdown",
   "id": "53253b00",
   "metadata": {
    "id": "53253b00"
   },
   "source": [
    "6. Создайте признак `diff_years`, обозначающий количество лет между годом производства автомобиля и годом размещения объявления о продаже автомобиля, и распечатайте его. Дополнительные корректировки не применяйте."
   ]
  },
  {
   "cell_type": "code",
   "execution_count": 40,
   "id": "c5b0ec88",
   "metadata": {
    "ExecuteTime": {
     "end_time": "2022-03-15T22:40:56.791095Z",
     "start_time": "2022-03-15T22:40:56.787550Z"
    },
    "id": "c5b0ec88"
   },
   "outputs": [
    {
     "data": {
      "text/plain": [
       "0        1\n",
       "1        5\n",
       "2        4\n",
       "3        8\n",
       "4        9\n",
       "        ..\n",
       "9614    19\n",
       "9615    13\n",
       "9616    10\n",
       "9617     6\n",
       "9618     4\n",
       "Name: diff_years, Length: 9619, dtype: int64"
      ]
     },
     "execution_count": 40,
     "metadata": {},
     "output_type": "execute_result"
    }
   ],
   "source": [
    "# Ваш код здесь\n",
    "df['diff_years'] = df.date.dt.year - df.year\n",
    "df['diff_years']"
   ]
  },
  {
   "cell_type": "markdown",
   "id": "d3a54316",
   "metadata": {
    "id": "d3a54316"
   },
   "source": [
    "7. Примените стандартизацию к новым признаками и сохраните результат в новые признаки вида `month_std`."
   ]
  },
  {
   "cell_type": "code",
   "execution_count": 41,
   "id": "8b2c2e19",
   "metadata": {
    "ExecuteTime": {
     "end_time": "2022-03-15T22:40:57.928930Z",
     "start_time": "2022-03-15T22:40:57.925925Z"
    },
    "id": "8b2c2e19"
   },
   "outputs": [
    {
     "data": {
      "text/plain": [
       "StandardScaler()"
      ]
     },
     "execution_count": 41,
     "metadata": {},
     "output_type": "execute_result"
    }
   ],
   "source": [
    "# Ваш код здесь\n",
    "std_scaler.fit(df[['month','dayofweek','diff_years']])\n"
   ]
  },
  {
   "cell_type": "code",
   "execution_count": 42,
   "id": "a8a5e112",
   "metadata": {},
   "outputs": [
    {
     "data": {
      "text/plain": [
       "array([[-0.61584563,  1.12028423, -1.32239376],\n",
       "       [ 1.62378353, -1.37497211, -0.69597272],\n",
       "       [-0.61584563, -0.37686957, -0.85257798],\n",
       "       ...,\n",
       "       [-0.61584563,  0.1221817 ,  0.08705357],\n",
       "       [-0.61584563, -0.37686957, -0.53936746],\n",
       "       [-0.61584563,  1.12028423, -0.85257798]])"
      ]
     },
     "execution_count": 42,
     "metadata": {},
     "output_type": "execute_result"
    }
   ],
   "source": [
    "month_std = std_scaler.transform(df[['month','dayofweek','diff_years']])\n",
    "month_std"
   ]
  },
  {
   "cell_type": "markdown",
   "id": "aba80393",
   "metadata": {
    "ExecuteTime": {
     "end_time": "2022-03-13T12:36:22.108423Z",
     "start_time": "2022-03-13T12:36:22.103687Z"
    },
    "id": "aba80393"
   },
   "source": [
    "### Задача 6. Сохранение датафрейма для этапа моделирования\n",
    "\n",
    "1. Удалите колонки, которые были исходными для формирования признаков, а также новые признаки, которые были добавлены с целью обучения.  Сохраните новый датафрейм в переменную `df_prepared`."
   ]
  },
  {
   "cell_type": "code",
   "execution_count": 44,
   "id": "58ab4836",
   "metadata": {
    "ExecuteTime": {
     "end_time": "2022-03-15T22:41:00.072365Z",
     "start_time": "2022-03-15T22:41:00.064841Z"
    },
    "id": "58ab4836"
   },
   "outputs": [],
   "source": [
    "# Допишите код\n",
    "\n",
    "df_prepared = df.drop(columns=['year', 'url', 'region', 'region_url', 'manufacturer',\n",
    "                    'model', 'fuel', 'odometer', 'title_status', 'transmission',\n",
    "                    'image_url', 'description', 'state', 'lat', 'long', 'posting_date',\n",
    "                    'odometer_km', 'odometer/price', 'region_new', 'region_corrected', 'manufacturer_model',\n",
    "                    'desc_len', 'model_in_desc', 'price_k$', 'age_category', 'model_len', 'model_word_count',\n",
    "                    'short_model', 'lat_mm', 'long_mm', 'date', 'std_scaled_price',\n",
    "                    'month', 'dayofweek', 'diff_years',\n",
    "                    'odometer/price_std'])\n"
   ]
  },
  {
   "cell_type": "markdown",
   "id": "f120eaaa",
   "metadata": {
    "id": "f120eaaa"
   },
   "source": [
    "2. Распечатайте оставшийся список колонок и размерность финального датафрейма."
   ]
  },
  {
   "cell_type": "code",
   "execution_count": 45,
   "id": "13fb36c3",
   "metadata": {
    "ExecuteTime": {
     "end_time": "2022-03-15T22:41:03.176389Z",
     "start_time": "2022-03-15T22:41:03.172474Z"
    },
    "id": "13fb36c3"
   },
   "outputs": [
    {
     "data": {
      "text/html": [
       "<div>\n",
       "<style scoped>\n",
       "    .dataframe tbody tr th:only-of-type {\n",
       "        vertical-align: middle;\n",
       "    }\n",
       "\n",
       "    .dataframe tbody tr th {\n",
       "        vertical-align: top;\n",
       "    }\n",
       "\n",
       "    .dataframe thead th {\n",
       "        text-align: right;\n",
       "    }\n",
       "</style>\n",
       "<table border=\"1\" class=\"dataframe\">\n",
       "  <thead>\n",
       "    <tr style=\"text-align: right;\">\n",
       "      <th></th>\n",
       "      <th>id</th>\n",
       "      <th>price</th>\n",
       "      <th>price_category</th>\n",
       "      <th>is_audi</th>\n",
       "      <th>is_ford</th>\n",
       "      <th>is_chevrolet</th>\n",
       "      <th>is_toyota</th>\n",
       "      <th>is_jeep</th>\n",
       "      <th>is_honda</th>\n",
       "      <th>is_nissan</th>\n",
       "      <th>...</th>\n",
       "      <th>x0_gas</th>\n",
       "      <th>x0_hybrid</th>\n",
       "      <th>x0_other</th>\n",
       "      <th>std_scaled_odometer</th>\n",
       "      <th>lat_std</th>\n",
       "      <th>long_std</th>\n",
       "      <th>year_std</th>\n",
       "      <th>desc_len_std</th>\n",
       "      <th>model_in_desc_std</th>\n",
       "      <th>model_len_std</th>\n",
       "    </tr>\n",
       "  </thead>\n",
       "  <tbody>\n",
       "    <tr>\n",
       "      <th>0</th>\n",
       "      <td>7308295377</td>\n",
       "      <td>54990</td>\n",
       "      <td>high</td>\n",
       "      <td>0</td>\n",
       "      <td>0</td>\n",
       "      <td>0</td>\n",
       "      <td>0</td>\n",
       "      <td>0</td>\n",
       "      <td>0</td>\n",
       "      <td>0</td>\n",
       "      <td>...</td>\n",
       "      <td>0.0</td>\n",
       "      <td>0.0</td>\n",
       "      <td>0.0</td>\n",
       "      <td>-1.079390</td>\n",
       "      <td>-0.619172</td>\n",
       "      <td>0.484245</td>\n",
       "      <td>1.322394</td>\n",
       "      <td>0.632075</td>\n",
       "      <td>-0.155788</td>\n",
       "      <td>1.163032</td>\n",
       "    </tr>\n",
       "    <tr>\n",
       "      <th>1</th>\n",
       "      <td>7316380095</td>\n",
       "      <td>16942</td>\n",
       "      <td>medium</td>\n",
       "      <td>0</td>\n",
       "      <td>1</td>\n",
       "      <td>0</td>\n",
       "      <td>0</td>\n",
       "      <td>0</td>\n",
       "      <td>0</td>\n",
       "      <td>0</td>\n",
       "      <td>...</td>\n",
       "      <td>0.0</td>\n",
       "      <td>0.0</td>\n",
       "      <td>1.0</td>\n",
       "      <td>-0.560115</td>\n",
       "      <td>0.388014</td>\n",
       "      <td>1.110800</td>\n",
       "      <td>0.695973</td>\n",
       "      <td>-0.646781</td>\n",
       "      <td>-0.155788</td>\n",
       "      <td>0.932087</td>\n",
       "    </tr>\n",
       "    <tr>\n",
       "      <th>2</th>\n",
       "      <td>7313733749</td>\n",
       "      <td>35590</td>\n",
       "      <td>high</td>\n",
       "      <td>0</td>\n",
       "      <td>0</td>\n",
       "      <td>0</td>\n",
       "      <td>0</td>\n",
       "      <td>0</td>\n",
       "      <td>0</td>\n",
       "      <td>0</td>\n",
       "      <td>...</td>\n",
       "      <td>1.0</td>\n",
       "      <td>0.0</td>\n",
       "      <td>0.0</td>\n",
       "      <td>-1.292863</td>\n",
       "      <td>-0.843059</td>\n",
       "      <td>0.531185</td>\n",
       "      <td>0.852578</td>\n",
       "      <td>0.560744</td>\n",
       "      <td>-0.155788</td>\n",
       "      <td>0.470197</td>\n",
       "    </tr>\n",
       "    <tr>\n",
       "      <th>3</th>\n",
       "      <td>7308210929</td>\n",
       "      <td>14500</td>\n",
       "      <td>medium</td>\n",
       "      <td>0</td>\n",
       "      <td>0</td>\n",
       "      <td>0</td>\n",
       "      <td>1</td>\n",
       "      <td>0</td>\n",
       "      <td>0</td>\n",
       "      <td>0</td>\n",
       "      <td>...</td>\n",
       "      <td>1.0</td>\n",
       "      <td>0.0</td>\n",
       "      <td>0.0</td>\n",
       "      <td>0.352621</td>\n",
       "      <td>-0.504509</td>\n",
       "      <td>0.853562</td>\n",
       "      <td>0.226157</td>\n",
       "      <td>0.180435</td>\n",
       "      <td>-0.155788</td>\n",
       "      <td>-0.915473</td>\n",
       "    </tr>\n",
       "    <tr>\n",
       "      <th>4</th>\n",
       "      <td>7303797340</td>\n",
       "      <td>14590</td>\n",
       "      <td>medium</td>\n",
       "      <td>0</td>\n",
       "      <td>0</td>\n",
       "      <td>0</td>\n",
       "      <td>0</td>\n",
       "      <td>0</td>\n",
       "      <td>0</td>\n",
       "      <td>0</td>\n",
       "      <td>...</td>\n",
       "      <td>0.0</td>\n",
       "      <td>0.0</td>\n",
       "      <td>1.0</td>\n",
       "      <td>-0.234311</td>\n",
       "      <td>-0.460101</td>\n",
       "      <td>0.557607</td>\n",
       "      <td>0.069552</td>\n",
       "      <td>0.766366</td>\n",
       "      <td>-0.155788</td>\n",
       "      <td>1.163032</td>\n",
       "    </tr>\n",
       "    <tr>\n",
       "      <th>...</th>\n",
       "      <td>...</td>\n",
       "      <td>...</td>\n",
       "      <td>...</td>\n",
       "      <td>...</td>\n",
       "      <td>...</td>\n",
       "      <td>...</td>\n",
       "      <td>...</td>\n",
       "      <td>...</td>\n",
       "      <td>...</td>\n",
       "      <td>...</td>\n",
       "      <td>...</td>\n",
       "      <td>...</td>\n",
       "      <td>...</td>\n",
       "      <td>...</td>\n",
       "      <td>...</td>\n",
       "      <td>...</td>\n",
       "      <td>...</td>\n",
       "      <td>...</td>\n",
       "      <td>...</td>\n",
       "      <td>...</td>\n",
       "      <td>...</td>\n",
       "    </tr>\n",
       "    <tr>\n",
       "      <th>9614</th>\n",
       "      <td>7304876387</td>\n",
       "      <td>4495</td>\n",
       "      <td>low</td>\n",
       "      <td>0</td>\n",
       "      <td>0</td>\n",
       "      <td>0</td>\n",
       "      <td>1</td>\n",
       "      <td>0</td>\n",
       "      <td>0</td>\n",
       "      <td>0</td>\n",
       "      <td>...</td>\n",
       "      <td>1.0</td>\n",
       "      <td>0.0</td>\n",
       "      <td>0.0</td>\n",
       "      <td>0.873936</td>\n",
       "      <td>0.615626</td>\n",
       "      <td>0.823646</td>\n",
       "      <td>-1.496501</td>\n",
       "      <td>-0.376744</td>\n",
       "      <td>-0.155788</td>\n",
       "      <td>-0.915473</td>\n",
       "    </tr>\n",
       "    <tr>\n",
       "      <th>9615</th>\n",
       "      <td>7316152972</td>\n",
       "      <td>14495</td>\n",
       "      <td>medium</td>\n",
       "      <td>0</td>\n",
       "      <td>0</td>\n",
       "      <td>0</td>\n",
       "      <td>0</td>\n",
       "      <td>1</td>\n",
       "      <td>0</td>\n",
       "      <td>0</td>\n",
       "      <td>...</td>\n",
       "      <td>1.0</td>\n",
       "      <td>0.0</td>\n",
       "      <td>0.0</td>\n",
       "      <td>0.293363</td>\n",
       "      <td>0.806702</td>\n",
       "      <td>0.903947</td>\n",
       "      <td>-0.556869</td>\n",
       "      <td>-0.654060</td>\n",
       "      <td>-0.155788</td>\n",
       "      <td>-0.453583</td>\n",
       "    </tr>\n",
       "    <tr>\n",
       "      <th>9616</th>\n",
       "      <td>7310993818</td>\n",
       "      <td>8995</td>\n",
       "      <td>low</td>\n",
       "      <td>1</td>\n",
       "      <td>0</td>\n",
       "      <td>0</td>\n",
       "      <td>0</td>\n",
       "      <td>0</td>\n",
       "      <td>0</td>\n",
       "      <td>0</td>\n",
       "      <td>...</td>\n",
       "      <td>1.0</td>\n",
       "      <td>0.0</td>\n",
       "      <td>0.0</td>\n",
       "      <td>0.876868</td>\n",
       "      <td>1.105428</td>\n",
       "      <td>-1.628875</td>\n",
       "      <td>-0.087054</td>\n",
       "      <td>-0.668253</td>\n",
       "      <td>-0.155788</td>\n",
       "      <td>1.509450</td>\n",
       "    </tr>\n",
       "    <tr>\n",
       "      <th>9617</th>\n",
       "      <td>7306637427</td>\n",
       "      <td>31900</td>\n",
       "      <td>high</td>\n",
       "      <td>0</td>\n",
       "      <td>0</td>\n",
       "      <td>0</td>\n",
       "      <td>0</td>\n",
       "      <td>0</td>\n",
       "      <td>0</td>\n",
       "      <td>0</td>\n",
       "      <td>...</td>\n",
       "      <td>0.0</td>\n",
       "      <td>1.0</td>\n",
       "      <td>0.0</td>\n",
       "      <td>-0.529514</td>\n",
       "      <td>0.773939</td>\n",
       "      <td>0.251959</td>\n",
       "      <td>0.539367</td>\n",
       "      <td>0.327100</td>\n",
       "      <td>-0.155788</td>\n",
       "      <td>-0.569055</td>\n",
       "    </tr>\n",
       "    <tr>\n",
       "      <th>9618</th>\n",
       "      <td>7311960763</td>\n",
       "      <td>31990</td>\n",
       "      <td>high</td>\n",
       "      <td>0</td>\n",
       "      <td>0</td>\n",
       "      <td>0</td>\n",
       "      <td>0</td>\n",
       "      <td>0</td>\n",
       "      <td>0</td>\n",
       "      <td>0</td>\n",
       "      <td>...</td>\n",
       "      <td>1.0</td>\n",
       "      <td>0.0</td>\n",
       "      <td>0.0</td>\n",
       "      <td>-0.944252</td>\n",
       "      <td>-0.337738</td>\n",
       "      <td>0.985465</td>\n",
       "      <td>0.852578</td>\n",
       "      <td>0.632439</td>\n",
       "      <td>-0.155788</td>\n",
       "      <td>1.163032</td>\n",
       "    </tr>\n",
       "  </tbody>\n",
       "</table>\n",
       "<p>9619 rows × 22 columns</p>\n",
       "</div>"
      ],
      "text/plain": [
       "              id  price price_category  is_audi  is_ford  is_chevrolet  \\\n",
       "0     7308295377  54990           high        0        0             0   \n",
       "1     7316380095  16942         medium        0        1             0   \n",
       "2     7313733749  35590           high        0        0             0   \n",
       "3     7308210929  14500         medium        0        0             0   \n",
       "4     7303797340  14590         medium        0        0             0   \n",
       "...          ...    ...            ...      ...      ...           ...   \n",
       "9614  7304876387   4495            low        0        0             0   \n",
       "9615  7316152972  14495         medium        0        0             0   \n",
       "9616  7310993818   8995            low        1        0             0   \n",
       "9617  7306637427  31900           high        0        0             0   \n",
       "9618  7311960763  31990           high        0        0             0   \n",
       "\n",
       "      is_toyota  is_jeep  is_honda  is_nissan  ...  x0_gas  x0_hybrid  \\\n",
       "0             0        0         0          0  ...     0.0        0.0   \n",
       "1             0        0         0          0  ...     0.0        0.0   \n",
       "2             0        0         0          0  ...     1.0        0.0   \n",
       "3             1        0         0          0  ...     1.0        0.0   \n",
       "4             0        0         0          0  ...     0.0        0.0   \n",
       "...         ...      ...       ...        ...  ...     ...        ...   \n",
       "9614          1        0         0          0  ...     1.0        0.0   \n",
       "9615          0        1         0          0  ...     1.0        0.0   \n",
       "9616          0        0         0          0  ...     1.0        0.0   \n",
       "9617          0        0         0          0  ...     0.0        1.0   \n",
       "9618          0        0         0          0  ...     1.0        0.0   \n",
       "\n",
       "      x0_other  std_scaled_odometer   lat_std  long_std  year_std  \\\n",
       "0          0.0            -1.079390 -0.619172  0.484245  1.322394   \n",
       "1          1.0            -0.560115  0.388014  1.110800  0.695973   \n",
       "2          0.0            -1.292863 -0.843059  0.531185  0.852578   \n",
       "3          0.0             0.352621 -0.504509  0.853562  0.226157   \n",
       "4          1.0            -0.234311 -0.460101  0.557607  0.069552   \n",
       "...        ...                  ...       ...       ...       ...   \n",
       "9614       0.0             0.873936  0.615626  0.823646 -1.496501   \n",
       "9615       0.0             0.293363  0.806702  0.903947 -0.556869   \n",
       "9616       0.0             0.876868  1.105428 -1.628875 -0.087054   \n",
       "9617       0.0            -0.529514  0.773939  0.251959  0.539367   \n",
       "9618       0.0            -0.944252 -0.337738  0.985465  0.852578   \n",
       "\n",
       "      desc_len_std  model_in_desc_std  model_len_std  \n",
       "0         0.632075          -0.155788       1.163032  \n",
       "1        -0.646781          -0.155788       0.932087  \n",
       "2         0.560744          -0.155788       0.470197  \n",
       "3         0.180435          -0.155788      -0.915473  \n",
       "4         0.766366          -0.155788       1.163032  \n",
       "...            ...                ...            ...  \n",
       "9614     -0.376744          -0.155788      -0.915473  \n",
       "9615     -0.654060          -0.155788      -0.453583  \n",
       "9616     -0.668253          -0.155788       1.509450  \n",
       "9617      0.327100          -0.155788      -0.569055  \n",
       "9618      0.632439          -0.155788       1.163032  \n",
       "\n",
       "[9619 rows x 22 columns]"
      ]
     },
     "execution_count": 45,
     "metadata": {},
     "output_type": "execute_result"
    }
   ],
   "source": [
    "# Ваш код здесь\n",
    "df_prepared"
   ]
  },
  {
   "cell_type": "code",
   "execution_count": 46,
   "id": "7a3ac3c5",
   "metadata": {},
   "outputs": [
    {
     "data": {
      "text/plain": [
       "(9619, 22)"
      ]
     },
     "execution_count": 46,
     "metadata": {},
     "output_type": "execute_result"
    }
   ],
   "source": [
    "df_prepared.shape"
   ]
  },
  {
   "cell_type": "markdown",
   "id": "b62690ff",
   "metadata": {
    "id": "b62690ff"
   },
   "source": [
    "3. Запишите перобразованный датафрейм в файл `data/vehicles_dataset_prepared.csv`, индекс не сохраняйте."
   ]
  },
  {
   "cell_type": "code",
   "execution_count": 47,
   "id": "955e76dd",
   "metadata": {
    "ExecuteTime": {
     "end_time": "2022-03-15T22:41:08.021538Z",
     "start_time": "2022-03-15T22:41:08.016555Z"
    },
    "id": "955e76dd"
   },
   "outputs": [],
   "source": [
    "# Ваш код здесь\n",
    "df_prepared.to_csv('data/df_prepared.csv', index=False)\n"
   ]
  },
  {
   "cell_type": "markdown",
   "id": "6e4960b4",
   "metadata": {
    "id": "6e4960b4"
   },
   "source": [
    "## Описание преобразованного датасета:\n",
    "- `id`: идентификатор записи;\n",
    "- `is_manufacturer_name`: признак производителя автомобиля;\n",
    "\n",
    "- `region_*`: регион;\n",
    "- `x0_*`: тип топлива;\n",
    "- `manufacturer_*`: производитель;\n",
    "- `short_model_*`: сокращённая модель автомобиля;\n",
    "- `title_status_*`: статус;\n",
    "- `transmission_*`: коробка передач;\n",
    "- `state_*`: штат;\n",
    "- `age_category_*`: возрастная категория автомобиля;\n",
    "\n",
    "- `std_scaled_odometer`: количество пройденных миль (после стандартизации);\n",
    "- `year_std`: год выпуска (после стандартизации);\n",
    "- `lat_std`: широта (после стандартизации);\n",
    "- `long_std`: долгота (после стандартизации);\n",
    "- `odometer/price_std`: отношение стоимости к пробегу автомобиля (после стандартизации);\n",
    "- `desc_len_std`: количество символов в тексте объявления о продаже (после стандартизации);\n",
    "- `model_in_desc_std`: количество наименований модели автомобиля в тексте объявления о продаже (после стандартизации);\n",
    "- `model_len_std`: длина наименования автомобиля (после стандартизации);\n",
    "- `model_word_count_std`: количество слов в наименовании автомобиля (после стандартизации);\n",
    "- `month_std`: номер месяца размещения объявления о продаже автомобиля (после стандартизации);\n",
    "- `dayofweek_std`: день недели размещения объявления о продаже автомобиля (после стандартизации);\n",
    "- `diff_years_std`: количество лет между годом производства автомобиля и годом размещения объявления о продаже автомобиля (после стандартизации);\n",
    "\n",
    "- `price`: стоимость;\n",
    "- `price_category`: категория цены."
   ]
  }
 ],
 "metadata": {
  "colab": {
   "collapsed_sections": [],
   "name": "20.5_Практическая работа.ipynb",
   "provenance": []
  },
  "kernelspec": {
   "display_name": "Python 3 (ipykernel)",
   "language": "python",
   "name": "python3"
  },
  "language_info": {
   "codemirror_mode": {
    "name": "ipython",
    "version": 3
   },
   "file_extension": ".py",
   "mimetype": "text/x-python",
   "name": "python",
   "nbconvert_exporter": "python",
   "pygments_lexer": "ipython3",
   "version": "3.9.7"
  },
  "toc": {
   "base_numbering": 1,
   "nav_menu": {},
   "number_sections": true,
   "sideBar": true,
   "skip_h1_title": false,
   "title_cell": "Table of Contents",
   "title_sidebar": "Contents",
   "toc_cell": false,
   "toc_position": {},
   "toc_section_display": true,
   "toc_window_display": false
  }
 },
 "nbformat": 4,
 "nbformat_minor": 5
}
